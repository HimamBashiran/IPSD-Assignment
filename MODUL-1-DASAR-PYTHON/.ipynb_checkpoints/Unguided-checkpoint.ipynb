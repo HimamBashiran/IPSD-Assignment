{
 "cells": [
  {
   "cell_type": "markdown",
   "id": "0addcd02",
   "metadata": {},
   "source": [
    "#### Buatlah program yang dapat menghasilkan pola berbentuk angka seperti di bawah ini, dengan syarat angka yang ditampilkan adalah hasil dari penjumlahan bilangan prima sebelumnya"
   ]
  },
  {
   "cell_type": "code",
   "execution_count": 2,
   "id": "af2b58d2",
   "metadata": {
    "ExecuteTime": {
     "end_time": "2024-09-20T02:03:11.132572Z",
     "start_time": "2024-09-20T02:03:09.124900Z"
    }
   },
   "outputs": [
    {
     "name": "stdout",
     "output_type": "stream",
     "text": [
      "Masukkan jumlah pola yang ingin dicetak: 4\n",
      "1\n",
      "2 3\n",
      "5 7 11\n",
      "13 17 19 23\n"
     ]
    }
   ],
   "source": [
    "#SOAL NOMOR 1\n",
    "\n",
    "def apakah_prima(n):\n",
    "    if n < 2:\n",
    "        return False\n",
    "    for i in range(2, int(n**0.5) + 1):\n",
    "        if n % i == 0:\n",
    "            return False\n",
    "    return True\n",
    "\n",
    "def buat_pola_prima(jumlah_baris):\n",
    "    hasil = [[1]]  #Mulai dengan 1 di baris pertama\n",
    "    bilangan_prima = []\n",
    "    angka_sekarang = 2\n",
    "\n",
    "    for baris in range(1, jumlah_baris):\n",
    "        angka_baris = []\n",
    "        while len(angka_baris) < baris + 1:\n",
    "            if apakah_prima(angka_sekarang):\n",
    "                bilangan_prima.append(angka_sekarang)\n",
    "                angka_baris.append(angka_sekarang)\n",
    "            angka_sekarang += 1\n",
    "        hasil.append(angka_baris)\n",
    "\n",
    "    return hasil\n",
    "\n",
    "def cetak_pola(pola):\n",
    "    for baris in pola:\n",
    "        print(' '.join(map(str, baris)))\n",
    "\n",
    "#Menghasilkan dan mencetak pola\n",
    "jumlah_baris = int(input(\"Masukkan jumlah pola yang ingin dicetak: \"))\n",
    "pola = buat_pola_prima(jumlah_baris)\n",
    "cetak_pola(pola)"
   ]
  },
  {
   "cell_type": "markdown",
   "id": "93f053d7",
   "metadata": {},
   "source": [
    "#### Buatlah sebuah fungsi yang menerima dua input berupa list angka. Fungsi ini harus mengembalikan sebuah list baru yang berisi elemen dari dua list input yang memiliki indeks ganjil. List baru tersebut juga harus diurutkan secara menurun berdasarkan nilai elemen."
   ]
  },
  {
   "cell_type": "code",
   "execution_count": 3,
   "id": "337b16be",
   "metadata": {
    "ExecuteTime": {
     "end_time": "2024-09-20T02:03:34.244071Z",
     "start_time": "2024-09-20T02:03:29.546410Z"
    }
   },
   "outputs": [
    {
     "name": "stdout",
     "output_type": "stream",
     "text": [
      "Untuk List pertama:\n",
      "Masukkan jumlah elemen dalam list: 1\n",
      "Masukkan elemen ke-1: 2\n",
      "\n",
      "Untuk List kedua:\n",
      "Masukkan jumlah elemen dalam list: 3\n",
      "Masukkan elemen ke-1: 4\n",
      "Masukkan elemen ke-2: 2\n",
      "Masukkan elemen ke-3: 3\n",
      "\n",
      "List A: [2]\n",
      "List B: [4, 2, 3]\n",
      "Hasil penggabungan indeks ganjil (diurutkan menurun): [2]\n"
     ]
    }
   ],
   "source": [
    "def merge_odd_indices(list1, list2):\n",
    "    #Ambil elemen dengan indeks ganjil dari kedua list\n",
    "    odd_indices1 = list1[1::2]\n",
    "    odd_indices2 = list2[1::2]\n",
    "    \n",
    "    #Gabungkan kedua list\n",
    "    merged = odd_indices1 + odd_indices2\n",
    "    \n",
    "    #Urutkan secara menurun\n",
    "    merged.sort(reverse=True)\n",
    "    \n",
    "    return merged\n",
    "\n",
    "def get_input_list():\n",
    "    n = int(input(\"Masukkan jumlah elemen dalam list: \"))\n",
    "    return [int(input(f\"Masukkan elemen ke-{i+1}: \")) for i in range(n)]\n",
    "\n",
    "#Menerima input untuk dua list\n",
    "print(\"Untuk List pertama:\")\n",
    "list_a = get_input_list()\n",
    "\n",
    "print(\"\\nUntuk List kedua:\")\n",
    "list_b = get_input_list()\n",
    "\n",
    "#Menjalankan fungsi dan mencetak hasil\n",
    "result = merge_odd_indices(list_a, list_b)\n",
    "print(\"\\nList A:\", list_a)\n",
    "print(\"List B:\", list_b)\n",
    "print(\"Hasil penggabungan indeks ganjil (diurutkan menurun):\", result)"
   ]
  },
  {
   "cell_type": "markdown",
   "id": "1870d1e0",
   "metadata": {},
   "source": [
    "#### Exception Handling dalam Konteks Nyata\n",
    "Buat sebuah program untuk mensimulasikan transaksi ATM. Program harus:\n",
    "1. Meminta pengguna memasukkan PIN (dibatasi 3 kali percobaan).\n",
    "2. Setelah PIN benar, meminta jumlah penarikan.\n",
    "3. Jika saldo kurang dari jumlah yang ditarik, munculkan pesan kesalahan.\n",
    "4. Jika penarikan berhasil, tampilkan saldo akhir."
   ]
  },
  {
   "cell_type": "code",
   "execution_count": 12,
   "id": "c194c8ec",
   "metadata": {
    "ExecuteTime": {
     "end_time": "2024-09-20T03:18:01.537538Z",
     "start_time": "2024-09-20T03:17:52.171518Z"
    }
   },
   "outputs": [
    {
     "name": "stdout",
     "output_type": "stream",
     "text": [
      "Masukkan PIN: 1234\n",
      "PIN benar. Akses diberikan.\n",
      "Masukkan jumlah penarikan: 1000000\n",
      "Saldo tidak mencukupi.\n",
      "Saldo Anda: Rp100000\n",
      "Masukkan jumlah penarikan: 90000\n",
      "Penarikan berhasil. Saldo akhir: Rp10000\n"
     ]
    }
   ],
   "source": [
    "def atm_transaction():\n",
    "    pin_benar = \"1234\"\n",
    "    saldo = 100000\n",
    "    percobaan = 3\n",
    "\n",
    "    while percobaan > 0:\n",
    "        pin = input(\"Masukkan PIN: \")\n",
    "        if pin == pin_benar:\n",
    "            print(\"PIN benar. Akses diberikan.\")\n",
    "            while True:\n",
    "                try:\n",
    "                    jumlah = int(input(\"Masukkan jumlah penarikan: \"))\n",
    "                    if jumlah > saldo:\n",
    "                        print(\"Saldo tidak mencukupi.\")\n",
    "                        print(f\"Saldo Anda: Rp{saldo}\")\n",
    "                    else:\n",
    "                        saldo -= jumlah\n",
    "                        print(f\"Penarikan berhasil. Saldo akhir: Rp{saldo}\")\n",
    "                        return\n",
    "                except ValueError:\n",
    "                    print(\"Masukkan jumlah yang valid.\")\n",
    "        else:\n",
    "            percobaan -= 1\n",
    "            print(f\"PIN salah. Sisa percobaan: {percobaan}\")\n",
    "\n",
    "    print(\"PIN salah 3 kali. Kartu Anda diblokir.\")\n",
    "\n",
    "if __name__ == \"__main__\":\n",
    "    atm_transaction()"
   ]
  },
  {
   "cell_type": "markdown",
   "id": "3d4e0273",
   "metadata": {},
   "source": [
    "#### Studi Kasus Pengelolaan Data\n",
    "Anda diberikan file CSV berisi data nilai ujian mahasiswa. Tugas Anda adalah menulis sebuah program yang:\n",
    "1. Membaca file CSV dan menyimpan datanya ke dalam dictionary.\n",
    "2. Menghitung rata-rata nilai tiap mahasiswa.\n",
    "3. Menampilkan mahasiswa dengan nilai tertinggi dan terendah.\n"
   ]
  },
  {
   "cell_type": "code",
   "execution_count": 3,
   "id": "cd823c22",
   "metadata": {
    "ExecuteTime": {
     "end_time": "2024-09-20T22:25:51.181800Z",
     "start_time": "2024-09-20T22:25:51.058971Z"
    }
   },
   "outputs": [],
   "source": [
    "import csv\n",
    "from statistics import mean\n",
    "\n",
    "def baca_file_csv(nama_file):\n",
    "    data_mahasiswa = {}\n",
    "    with open(nama_file, 'r') as file:\n",
    "        csv_reader = csv.reader(file)\n",
    "        next(csv_reader)  #Lewati baris header\n",
    "        for row in csv_reader:\n",
    "            nim, nama, *nilai = row\n",
    "            data_mahasiswa[nim] = {\n",
    "                'nama': nama,\n",
    "                'nilai': [float(n) for n in nilai]\n",
    "            }\n",
    "    return data_mahasiswa\n",
    "\n",
    "def hitung_rata_rata(data_mahasiswa):\n",
    "    for nim, info in data_mahasiswa.items():\n",
    "        info['rata_rata'] = mean(info['nilai'])\n",
    "\n",
    "def cari_nilai_ekstrem(data_mahasiswa):\n",
    "    nilai_tertinggi = max(data_mahasiswa.items(), key=lambda x: x[1]['rata_rata'])\n",
    "    nilai_terendah = min(data_mahasiswa.items(), key=lambda x: x[1]['rata_rata'])\n",
    "    return nilai_tertinggi, nilai_terendah\n",
    "\n",
    "def tampilkan_hasil(data_mahasiswa, nilai_tertinggi, nilai_terendah):\n",
    "    print(\"Rata-rata nilai tiap mahasiswa:\")\n",
    "    for nim, info in data_mahasiswa.items():\n",
    "        print(f\"{info['nama']} (NIM: {nim}): {info['rata_rata']:.2f}\")\n",
    "    \n",
    "    print(\"\\nMahasiswa dengan nilai tertinggi:\")\n",
    "    print(f\"{nilai_tertinggi[1]['nama']} (NIM: {nilai_tertinggi[0]}): {nilai_tertinggi[1]['rata_rata']:.2f}\")\n",
    "    \n",
    "    print(\"\\nMahasiswa dengan nilai terendah:\")\n",
    "    print(f\"{nilai_terendah[1]['nama']} (NIM: {nilai_terendah[0]}): {nilai_terendah[1]['rata_rata']:.2f}\")\n",
    "\n",
    "def main():\n",
    "    nama_file = 'nilai_mahasiswa.csv'\n",
    "    data_mahasiswa = baca_file_csv(nama_file)\n",
    "    hitung_rata_rata(data_mahasiswa)\n",
    "    nilai_tertinggi, nilai_terendah = cari_nilai_ekstrem(data_mahasiswa)\n",
    "    tampilkan_hasil(data_mahasiswa, nilai_tertinggi, nilai_terendah)\n",
    "\n",
    "if __name__ == \"__main__\":\n",
    "    main()"
   ]
  },
  {
   "cell_type": "markdown",
   "id": "aaa30a00",
   "metadata": {},
   "source": [
    "#### Kombinasi Logika dan Kreativitas\n",
    "Buatlah permainan sederhana menggunakan Python, di mana komputer akan memilih sebuah angka secara acak antara 1 hingga 100, dan pengguna harus menebak angka tersebut. Setiap tebakan yang salah akan memberikan petunjuk apakah angka yang ditebak lebih besar atau lebih kecil dari angka sebenarnya. Batasi jumlah percobaan menjadi 5 kali. Setelah permainan selesai, tampilkan apakah pemain menang atau kalah."
   ]
  },
  {
   "cell_type": "code",
   "execution_count": 4,
   "id": "554c8a7e",
   "metadata": {
    "ExecuteTime": {
     "end_time": "2024-09-20T22:27:33.250314Z",
     "start_time": "2024-09-20T22:27:09.312530Z"
    }
   },
   "outputs": [
    {
     "name": "stdout",
     "output_type": "stream",
     "text": [
      "\n",
      "Percobaan ke-1. Masukkan tebakan Anda: 2\n",
      "\n",
      "Percobaan ke-2. Masukkan tebakan Anda: 3\n",
      "\n",
      "Percobaan ke-3. Masukkan tebakan Anda: 4\n",
      "\n",
      "Percobaan ke-4. Masukkan tebakan Anda: 5\n",
      "\n",
      "Percobaan ke-5. Masukkan tebakan Anda: 6\n",
      "Apakah Anda ingin bermain lagi? (ya/tidak): ya\n",
      "\n",
      "Percobaan ke-1. Masukkan tebakan Anda: 1\n",
      "\n",
      "Percobaan ke-2. Masukkan tebakan Anda: 7\n",
      "\n",
      "Percobaan ke-3. Masukkan tebakan Anda: 8\n",
      "\n",
      "Percobaan ke-4. Masukkan tebakan Anda: 9\n",
      "\n",
      "Percobaan ke-5. Masukkan tebakan Anda: 10\n",
      "Apakah Anda ingin bermain lagi? (ya/tidak): tidak\n"
     ]
    }
   ],
   "source": [
    "import random\n",
    "\n",
    "def tebak_angka():\n",
    "    print(\"Selamat datang di Permainan Tebak Angka!\")\n",
    "    print(\"Saya telah memilih sebuah angka antara 1 dan 100.\")\n",
    "    print(\"Anda memiliki 5 kesempatan untuk menebak.\")\n",
    "\n",
    "    angka_rahasia = random.randint(1, 100)\n",
    "    percobaan = 0\n",
    "    max_percobaan = 5\n",
    "\n",
    "    while percobaan < max_percobaan:\n",
    "        try:\n",
    "            tebakan = int(input(f\"\\nPercobaan ke-{percobaan + 1}. Masukkan tebakan Anda: \"))\n",
    "            \n",
    "            if tebakan < 1 or tebakan > 100:\n",
    "                print(\"Mohon masukkan angka antara 1 dan 100.\")\n",
    "                continue\n",
    "\n",
    "            percobaan += 1\n",
    "\n",
    "            if tebakan == angka_rahasia:\n",
    "                print(f\"\\nSelamat! Anda berhasil menebak angka {angka_rahasia} dalam {percobaan} percobaan.\")\n",
    "                return\n",
    "\n",
    "            if tebakan < angka_rahasia:\n",
    "                print(\"Tebakan Anda terlalu rendah. Coba lagi!\")\n",
    "            else:\n",
    "                print(\"Tebakan Anda terlalu tinggi. Coba lagi!\")\n",
    "\n",
    "            sisa_percobaan = max_percobaan - percobaan\n",
    "            if sisa_percobaan > 0:\n",
    "                print(f\"Anda masih memiliki {sisa_percobaan} kesempatan.\")\n",
    "\n",
    "        except ValueError:\n",
    "            print(\"Mohon masukkan angka yang valid.\")\n",
    "\n",
    "    print(f\"\\nMaaf, Anda kehabisan kesempatan. Angka yang benar adalah {angka_rahasia}.\")\n",
    "\n",
    "if __name__ == \"__main__\":\n",
    "    tebak_angka()\n",
    "    \n",
    "    while True:\n",
    "        main_lagi = input(\"Apakah Anda ingin bermain lagi? (ya/tidak): \").lower()\n",
    "        if main_lagi == 'ya':\n",
    "            tebak_angka()\n",
    "        elif main_lagi == 'tidak':\n",
    "            print(\"Terima kasih telah bermain. Sampai jumpa!\")\n",
    "            break\n",
    "        else:\n",
    "            print(\"Mohon masukkan 'ya' atau 'tidak'.\")"
   ]
  },
  {
   "cell_type": "markdown",
   "id": "f2860c03",
   "metadata": {},
   "source": [
    "#### Rekursi yang Tidak Biasa\n",
    "Buat fungsi rekursif yang menerima input bilangan bulat `n` dan menghasilkan urutan bilangan seperti berikut ini:\n",
    "```\n",
    "Input: n = 4\n",
    "Output: 1, 1, 2, 6, 24\n",
    "```\n",
    "Fungsi ini harus menggunakan konsep rekursi untuk menghitung faktorial setiap angka hingga `n`."
   ]
  },
  {
   "cell_type": "code",
   "execution_count": 7,
   "id": "297ee6cb",
   "metadata": {
    "ExecuteTime": {
     "end_time": "2024-09-20T22:29:39.095096Z",
     "start_time": "2024-09-20T22:29:38.218604Z"
    }
   },
   "outputs": [
    {
     "name": "stdout",
     "output_type": "stream",
     "text": [
      "Masukkan jumlah angka rekursi: 4\n",
      "Input: n = 4\n",
      "Output: 1, 1, 2, 6, 24\n"
     ]
    }
   ],
   "source": [
    "def buat_urutan(n):\n",
    "    if n <= 2:\n",
    "        return [1] * n\n",
    "    urutan_sebelumnya = buat_urutan(n - 1)\n",
    "    return urutan_sebelumnya + [(n - 1) * urutan_sebelumnya[-1]]\n",
    "\n",
    "\n",
    "n = int(input(\"Masukkan jumlah angka rekursi: \"))\n",
    "hasil = buat_urutan(n + 1)[:n+1]  #Mengambil n+1 elemen\n",
    "print(f\"Input: n = {n}\")\n",
    "print(f\"Output: {', '.join(map(str, hasil))}\")"
   ]
  },
  {
   "cell_type": "markdown",
   "id": "ab91f6b1",
   "metadata": {},
   "source": [
    "#### Pemrograman dengan Algoritma Greedy\n",
    "Buatlah program untuk memecahkan masalah \"minimum coin change\". Diberikan jumlah uang dan daftar nilai koin yang tersedia (misalnya, 1, 5, 10, 25), tentukan kombinasi minimum koin yang diperlukan untuk mencapai jumlah uang tersebut. Namun, program Anda harus bisa menangani koin-koin yang nilai dan jumlahnya ditentukan pengguna.\n"
   ]
  },
  {
   "cell_type": "code",
   "execution_count": 9,
   "id": "218fbd59",
   "metadata": {
    "ExecuteTime": {
     "end_time": "2024-09-20T22:33:28.365774Z",
     "start_time": "2024-09-20T22:32:33.259812Z"
    }
   },
   "outputs": [
    {
     "name": "stdout",
     "output_type": "stream",
     "text": [
      "Selamat datang di program Greedy Coin Change!\n",
      "Masukkan jumlah jenis koin yang tersedia: 2\n",
      "Masukkan nilai koin ke-1: 30\n",
      "Masukkan jumlah koin 30 yang tersedia: 1\n",
      "Masukkan nilai koin ke-2: 50\n",
      "Masukkan jumlah koin 50 yang tersedia: 1\n",
      "Masukkan jumlah uang yang ingin dicapai: 60\n",
      "\n",
      "Hasil:\n",
      "Tidak dapat mencapai jumlah yang diinginkan. Kekurangan: 10\n",
      "Kombinasi koin terbaik yang dapat dicapai:\n",
      "1 koin dengan nilai 50\n"
     ]
    }
   ],
   "source": [
    "def greedy_coin_change(target_amount, coin_values, coin_counts):\n",
    "    result = {}\n",
    "    total_coins = 0\n",
    "    \n",
    "    # Urutkan koin dari nilai terbesar ke terkecil\n",
    "    sorted_coins = sorted(zip(coin_values, coin_counts), reverse=True)\n",
    "    \n",
    "    for coin, count in sorted_coins:\n",
    "        if target_amount >= coin:\n",
    "            # Hitung berapa banyak koin ini yang bisa digunakan\n",
    "            num_coins = min(target_amount // coin, count)\n",
    "            if num_coins > 0:\n",
    "                result[coin] = num_coins\n",
    "                target_amount -= coin * num_coins\n",
    "                total_coins += num_coins\n",
    "        \n",
    "        if target_amount == 0:\n",
    "            break\n",
    "    \n",
    "    return result, total_coins, target_amount\n",
    "\n",
    "def get_user_input():\n",
    "    coin_values = []\n",
    "    coin_counts = []\n",
    "    \n",
    "    while True:\n",
    "        try:\n",
    "            n = int(input(\"Masukkan jumlah jenis koin yang tersedia: \"))\n",
    "            if n <= 0:\n",
    "                print(\"Jumlah jenis koin harus lebih dari 0.\")\n",
    "                continue\n",
    "            break\n",
    "        except ValueError:\n",
    "            print(\"Masukkan angka yang valid.\")\n",
    "    \n",
    "    for i in range(n):\n",
    "        while True:\n",
    "            try:\n",
    "                value = int(input(f\"Masukkan nilai koin ke-{i+1}: \"))\n",
    "                count = int(input(f\"Masukkan jumlah koin {value} yang tersedia: \"))\n",
    "                if value <= 0 or count <= 0:\n",
    "                    print(\"Nilai dan jumlah koin harus lebih dari 0.\")\n",
    "                    continue\n",
    "                coin_values.append(value)\n",
    "                coin_counts.append(count)\n",
    "                break\n",
    "            except ValueError:\n",
    "                print(\"Masukkan angka yang valid.\")\n",
    "    \n",
    "    while True:\n",
    "        try:\n",
    "            target = int(input(\"Masukkan jumlah uang yang ingin dicapai: \"))\n",
    "            if target <= 0:\n",
    "                print(\"Jumlah uang harus lebih dari 0.\")\n",
    "                continue\n",
    "            break\n",
    "        except ValueError:\n",
    "            print(\"Masukkan angka yang valid.\")\n",
    "    \n",
    "    return coin_values, coin_counts, target\n",
    "\n",
    "def main():\n",
    "    print(\"Selamat datang di program Greedy Coin Change!\")\n",
    "    coin_values, coin_counts, target = get_user_input()\n",
    "    \n",
    "    result, total_coins, remaining = greedy_coin_change(target, coin_values, coin_counts)\n",
    "    \n",
    "    print(\"\\nHasil:\")\n",
    "    if remaining == 0:\n",
    "        print(f\"Jumlah minimum koin yang diperlukan: {total_coins}\")\n",
    "        print(\"Kombinasi koin:\")\n",
    "        for coin, count in result.items():\n",
    "            print(f\"{count} koin dengan nilai {coin}\")\n",
    "    else:\n",
    "        print(f\"Tidak dapat mencapai jumlah yang diinginkan. Kekurangan: {remaining}\")\n",
    "        print(\"Kombinasi koin terbaik yang dapat dicapai:\")\n",
    "        for coin, count in result.items():\n",
    "            print(f\"{count} koin dengan nilai {coin}\")\n",
    "\n",
    "if __name__ == \"__main__\":\n",
    "    main()"
   ]
  },
  {
   "cell_type": "markdown",
   "id": "d10d3038",
   "metadata": {},
   "source": [
    "#### Kombinasi String dan Manipulasi List\n",
    "Buat sebuah program yang menerima string dari pengguna dan mengonversi string tersebut menjadi sebuah list berisi kata-kata terbalik. Misalnya:\n",
    "```\n",
    "Input: \"Saya suka Python\"\n",
    "Output: [\"ayaS\", \"akus\", \"nohtyP\"]\n",
    "```"
   ]
  },
  {
   "cell_type": "code",
   "execution_count": 1,
   "id": "1d559753",
   "metadata": {
    "ExecuteTime": {
     "end_time": "2024-09-20T22:40:31.248482Z",
     "start_time": "2024-09-20T22:40:26.483117Z"
    }
   },
   "outputs": [
    {
     "name": "stdout",
     "output_type": "stream",
     "text": [
      "Masukkan kalimat: Saya suka Python\n",
      "['ayaS', 'akus', 'nohtyP']\n"
     ]
    }
   ],
   "source": [
    "def reverse_words(sentence):\n",
    "    words = sentence.split()\n",
    "    return [word[::-1] for word in words]\n",
    "\n",
    "#Menerima input dari pengguna\n",
    "sentence = input(\"Masukkan kalimat: \")\n",
    "\n",
    "#Membalik kata-kata dan menampilkan hasilnya\n",
    "result = reverse_words(sentence)\n",
    "print(result)"
   ]
  },
  {
   "cell_type": "markdown",
   "id": "84e75e6b",
   "metadata": {},
   "source": [
    "#### : Konsep Class dan Object-Oriented Programming\n",
    "Buat class bernama `Buku` yang memiliki atribut `judul`, `penulis`, dan `tahun_terbit`. Buat method dalam class untuk menampilkan informasi buku, serta method untuk menghitung usia buku berdasarkan tahun saat ini. Buatlah 3 objek dari class `Buku` dan tampilkan informasi serta usia masing-masing buku."
   ]
  },
  {
   "cell_type": "code",
   "execution_count": 5,
   "id": "12459e36",
   "metadata": {
    "ExecuteTime": {
     "end_time": "2024-09-20T22:44:50.931816Z",
     "start_time": "2024-09-20T22:44:50.920213Z"
    }
   },
   "outputs": [
    {
     "name": "stdout",
     "output_type": "stream",
     "text": [
      "\n",
      "Buku 1:\n",
      "Judul: Marmut Merah Jambu, Penulis: Raditya Dika, Tahun Terbit: 2010\n",
      "Usia buku: 14 tahun\n",
      "\n",
      "Buku 2:\n",
      "Judul: Sebuah Seni untuk Bersikap Bodo Amat, Penulis: Mark Manson, Tahun Terbit: 2016\n",
      "Usia buku: 8 tahun\n",
      "\n",
      "Buku 3:\n",
      "Judul: Mantappu Jiwa, Penulis: Jerome Polin, Tahun Terbit: 2019\n",
      "Usia buku: 5 tahun\n"
     ]
    }
   ],
   "source": [
    "from datetime import datetime\n",
    "\n",
    "class Buku:\n",
    "    def __init__(self, judul, penulis, tahun_terbit):\n",
    "        self.judul = judul\n",
    "        self.penulis = penulis\n",
    "        self.tahun_terbit = tahun_terbit\n",
    "    \n",
    "    def tampilkan_info(self):\n",
    "        return f\"Judul: {self.judul}, Penulis: {self.penulis}, Tahun Terbit: {self.tahun_terbit}\"\n",
    "    \n",
    "    def hitung_usia(self):\n",
    "        tahun_sekarang = datetime.now().year\n",
    "        return tahun_sekarang - self.tahun_terbit\n",
    "\n",
    "#Membuat 3 objek buku\n",
    "buku1 = Buku(\"Marmut Merah Jambu\", \"Raditya Dika\", 2010)\n",
    "buku2 = Buku(\"Sebuah Seni untuk Bersikap Bodo Amat\", \"Mark Manson\", 2016)\n",
    "buku3 = Buku(\"Mantappu Jiwa\", \"Jerome Polin\", 2019)\n",
    "\n",
    "#Menampilkan informasi dan usia masing-masing buku\n",
    "for i, buku in enumerate([buku1, buku2, buku3], 1):\n",
    "    print(f\"\\nBuku {i}:\")\n",
    "    print(buku.tampilkan_info())\n",
    "    print(f\"Usia buku: {buku.hitung_usia()} tahun\")"
   ]
  },
  {
   "cell_type": "markdown",
   "id": "2b384909",
   "metadata": {},
   "source": [
    "#### Algoritma dengan Persyaratan Logika Khusus\n",
    "Buatlah program yang mengimplementasikan algoritma pencarian biner, namun dengan modifikasi: algoritma harus bisa mencari nilai di list yang hanya berisi angka genap, dan jika nilai yang dicari adalah angka ganjil, program harus menampilkan pesan bahwa nilai tersebut tidak bisa ditemukan."
   ]
  },
  {
   "cell_type": "code",
   "execution_count": 6,
   "id": "d54773ff",
   "metadata": {
    "ExecuteTime": {
     "end_time": "2024-09-20T22:46:09.527057Z",
     "start_time": "2024-09-20T22:46:09.508582Z"
    }
   },
   "outputs": [
    {
     "name": "stdout",
     "output_type": "stream",
     "text": [
      "List angka genap: [2, 4, 6, 8, 10, 12, 14, 16, 18, 20, 22, 24, 26, 28, 30, 32, 34, 36, 38, 40, 42, 44, 46, 48, 50, 52, 54, 56, 58, 60, 62, 64, 66, 68, 70, 72, 74, 76, 78, 80, 82, 84, 86, 88, 90, 92, 94, 96, 98, 100]\n",
      "\n",
      "Mencari nilai 10:\n",
      "Nilai 10 ditemukan pada indeks 4.\n",
      "\n",
      "Mencari nilai 7:\n",
      "Nilai ganjil tidak dapat ditemukan dalam list angka genap.\n",
      "\n",
      "Mencari nilai 50:\n",
      "Nilai 50 ditemukan pada indeks 24.\n",
      "\n",
      "Mencari nilai 101:\n",
      "Nilai ganjil tidak dapat ditemukan dalam list angka genap.\n",
      "\n",
      "Mencari nilai 200:\n",
      "Nilai 200 tidak ditemukan dalam list.\n"
     ]
    }
   ],
   "source": [
    "def modified_binary_search(arr, target):\n",
    "    #Periksa apakah target adalah angka ganjil\n",
    "    if target % 2 != 0:\n",
    "        return \"Nilai ganjil tidak dapat ditemukan dalam list angka genap.\"\n",
    "    \n",
    "    left, right = 0, len(arr) - 1\n",
    "    \n",
    "    while left <= right:\n",
    "        mid = (left + right) // 2\n",
    "        if arr[mid] == target:\n",
    "            return f\"Nilai {target} ditemukan pada indeks {mid}.\"\n",
    "        elif arr[mid] < target:\n",
    "            left = mid + 1\n",
    "        else:\n",
    "            right = mid - 1\n",
    "    \n",
    "    return f\"Nilai {target} tidak ditemukan dalam list.\"\n",
    "\n",
    "#Fungsi untuk membuat list angka genap terurut\n",
    "def create_even_list(n):\n",
    "    return [i * 2 for i in range(1, n + 1)]\n",
    "\n",
    "#Contoh penggunaan\n",
    "even_list = create_even_list(50)  # Membuat list angka genap dari 2 sampai 100\n",
    "print(\"List angka genap:\", even_list)\n",
    "\n",
    "#Beberapa contoh pencarian\n",
    "test_cases = [10, 7, 50, 101, 200]\n",
    "\n",
    "for case in test_cases:\n",
    "    result = modified_binary_search(even_list, case)\n",
    "    print(f\"\\nMencari nilai {case}:\")\n",
    "    print(result)"
   ]
  },
  {
   "cell_type": "code",
   "execution_count": 8,
   "id": "e43c6055",
   "metadata": {
    "ExecuteTime": {
     "end_time": "2024-09-20T22:49:24.255942Z",
     "start_time": "2024-09-20T22:49:06.814228Z"
    }
   },
   "outputs": [
    {
     "name": "stdout",
     "output_type": "stream",
     "text": [
      "List angka genap: [2, 4, 6, 8, 10, 12, 14, 16, 18, 20, 22, 24, 26, 28, 30, 32, 34, 36, 38, 40, 42, 44, 46, 48, 50, 52, 54, 56, 58, 60, 62, 64, 66, 68, 70, 72, 74, 76, 78, 80, 82, 84, 86, 88, 90, 92, 94, 96, 98, 100]\n",
      "\n",
      "Masukkan nilai yang ingin dicari ('selesai' untuk keluar): 100\n",
      "Nilai 100 ditemukan pada indeks 49.\n",
      "\n",
      "Masukkan nilai yang ingin dicari ('selesai' untuk keluar): 74\n",
      "Nilai 74 ditemukan pada indeks 36.\n",
      "\n",
      "Masukkan nilai yang ingin dicari ('selesai' untuk keluar): 9\n",
      "Nilai ganjil tidak dapat ditemukan dalam list angka genap.\n",
      "\n",
      "Masukkan nilai yang ingin dicari ('selesai' untuk keluar): 1\n",
      "Nilai ganjil tidak dapat ditemukan dalam list angka genap.\n",
      "\n",
      "Masukkan nilai yang ingin dicari ('selesai' untuk keluar): selesai\n",
      "Terima kasih telah menggunakan program ini.\n"
     ]
    }
   ],
   "source": [
    "def modified_binary_search(arr, target):\n",
    "    #Periksa apakah target adalah angka ganjil\n",
    "    if target % 2 != 0:\n",
    "        return \"Nilai ganjil tidak dapat ditemukan dalam list angka genap.\"\n",
    "    \n",
    "    left, right = 0, len(arr) - 1\n",
    "    \n",
    "    while left <= right:\n",
    "        mid = (left + right) // 2\n",
    "        if arr[mid] == target:\n",
    "            return f\"Nilai {target} ditemukan pada indeks {mid}.\"\n",
    "        elif arr[mid] < target:\n",
    "            left = mid + 1\n",
    "        else:\n",
    "            right = mid - 1\n",
    "    \n",
    "    return f\"Nilai {target} tidak ditemukan dalam list.\"\n",
    "\n",
    "#Fungsi untuk membuat list angka genap terurut\n",
    "def create_even_list(n):\n",
    "    return [i * 2 for i in range(1, n + 1)]\n",
    "\n",
    "#Membuat list angka genap dari 2 sampai 100\n",
    "even_list = create_even_list(50)\n",
    "print(\"List angka genap:\", even_list)\n",
    "\n",
    "#Loop untuk menerima input dari pengguna\n",
    "while True:\n",
    "    try:\n",
    "        user_input = input(\"\\nMasukkan nilai yang ingin dicari ('selesai' untuk keluar): \")\n",
    "        \n",
    "        if user_input.lower() == 'selesai':\n",
    "            print(\"Terima kasih telah menggunakan program ini.\")\n",
    "            break\n",
    "        \n",
    "        target = int(user_input)\n",
    "        result = modified_binary_search(even_list, target)\n",
    "        print(result)\n",
    "    \n",
    "    except ValueError:\n",
    "        print(\"Input tidak valid. Mohon masukkan angka atau 'selesai' untuk keluar.\")"
   ]
  }
 ],
 "metadata": {
  "kernelspec": {
   "display_name": "Python 3 (ipykernel)",
   "language": "python",
   "name": "python3"
  },
  "language_info": {
   "codemirror_mode": {
    "name": "ipython",
    "version": 3
   },
   "file_extension": ".py",
   "mimetype": "text/x-python",
   "name": "python",
   "nbconvert_exporter": "python",
   "pygments_lexer": "ipython3",
   "version": "3.12.1"
  },
  "toc": {
   "base_numbering": 1,
   "nav_menu": {},
   "number_sections": true,
   "sideBar": true,
   "skip_h1_title": false,
   "title_cell": "Table of Contents",
   "title_sidebar": "Contents",
   "toc_cell": false,
   "toc_position": {},
   "toc_section_display": true,
   "toc_window_display": false
  }
 },
 "nbformat": 4,
 "nbformat_minor": 5
}
