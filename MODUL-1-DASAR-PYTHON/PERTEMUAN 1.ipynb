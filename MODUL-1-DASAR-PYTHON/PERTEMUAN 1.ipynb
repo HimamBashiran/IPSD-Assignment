{
 "cells": [
  {
   "cell_type": "code",
   "execution_count": 26,
   "id": "297ee6cb",
   "metadata": {
    "ExecuteTime": {
     "end_time": "2024-09-18T10:11:00.704876Z",
     "start_time": "2024-09-18T10:10:58.736926Z"
    }
   },
   "outputs": [
    {
     "name": "stdout",
     "output_type": "stream",
     "text": [
      "Masukkan jumlah angka rekursi: 4\n",
      "Input: n = 4\n",
      "Output: 1,1,2,6,24\n"
     ]
    }
   ],
   "source": [
    "def buat_urutan(n):\n",
    "    if n <= 2:\n",
    "        return [1] * n\n",
    "    urutan_sebelumnya = buat_urutan(n - 1)\n",
    "    return urutan_sebelumnya + [(n - 1) * urutan_sebelumnya[-1]]\n",
    "\n",
    "\n",
    "n = int(input(\"Masukkan jumlah angka rekursi: \"))\n",
    "hasil = buat_urutan(n + 1)[:n+1]  # Mengambil n+1 elemen\n",
    "print(f\"Input: n = {n}\")\n",
    "print(f\"Output: {','.join(map(str, hasil))}\")"
   ]
  },
  {
   "cell_type": "code",
   "execution_count": null,
   "id": "e80ea039",
   "metadata": {},
   "outputs": [],
   "source": []
  }
 ],
 "metadata": {
  "kernelspec": {
   "display_name": "Python 3 (ipykernel)",
   "language": "python",
   "name": "python3"
  },
  "language_info": {
   "codemirror_mode": {
    "name": "ipython",
    "version": 3
   },
   "file_extension": ".py",
   "mimetype": "text/x-python",
   "name": "python",
   "nbconvert_exporter": "python",
   "pygments_lexer": "ipython3",
   "version": "3.12.1"
  },
  "toc": {
   "base_numbering": 1,
   "nav_menu": {},
   "number_sections": true,
   "sideBar": true,
   "skip_h1_title": false,
   "title_cell": "Table of Contents",
   "title_sidebar": "Contents",
   "toc_cell": false,
   "toc_position": {},
   "toc_section_display": true,
   "toc_window_display": false
  }
 },
 "nbformat": 4,
 "nbformat_minor": 5
}
