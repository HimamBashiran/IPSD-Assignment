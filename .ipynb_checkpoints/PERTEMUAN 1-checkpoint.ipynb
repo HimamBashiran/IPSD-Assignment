{
 "cells": [
  {
   "cell_type": "code",
   "execution_count": 2,
   "id": "d7785ec5",
   "metadata": {
    "ExecuteTime": {
     "end_time": "2024-09-18T09:47:39.138676Z",
     "start_time": "2024-09-18T09:47:39.127945Z"
    }
   },
   "outputs": [
    {
     "name": "stdout",
     "output_type": "stream",
     "text": [
      "Input: n = 5\n",
      "Output: 1, 1, 3, 12, 60\n"
     ]
    }
   ],
   "source": [
    "def generate_sequence(n):\n",
    "    if n <= 2:\n",
    "        return [1] * n\n",
    "    seq = generate_sequence(n - 1)\n",
    "    return seq + [n * seq[-1]]\n",
    "\n",
    "# Contoh penggunaan\n",
    "n = 5\n",
    "result = generate_sequence(n)\n",
    "print(f\"Input: n = {n}\")\n",
    "print(f\"Output: {', '.join(map(str, result))}\")"
   ]
  },
  {
   "cell_type": "code",
   "execution_count": null,
   "id": "eba1fef4",
   "metadata": {},
   "outputs": [],
   "source": []
  }
 ],
 "metadata": {
  "kernelspec": {
   "display_name": "Python 3 (ipykernel)",
   "language": "python",
   "name": "python3"
  },
  "language_info": {
   "codemirror_mode": {
    "name": "ipython",
    "version": 3
   },
   "file_extension": ".py",
   "mimetype": "text/x-python",
   "name": "python",
   "nbconvert_exporter": "python",
   "pygments_lexer": "ipython3",
   "version": "3.12.1"
  },
  "toc": {
   "base_numbering": 1,
   "nav_menu": {},
   "number_sections": true,
   "sideBar": true,
   "skip_h1_title": false,
   "title_cell": "Table of Contents",
   "title_sidebar": "Contents",
   "toc_cell": false,
   "toc_position": {},
   "toc_section_display": true,
   "toc_window_display": false
  }
 },
 "nbformat": 4,
 "nbformat_minor": 5
}
