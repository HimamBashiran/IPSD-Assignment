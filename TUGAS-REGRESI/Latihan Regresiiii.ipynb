{
 "cells": [
  {
   "cell_type": "markdown",
   "id": "fb1a0355",
   "metadata": {},
   "source": [
    "HIMAM BASHIRAN (2311110055)"
   ]
  },
  {
   "cell_type": "code",
   "execution_count": 1,
   "id": "732a01fa",
   "metadata": {
    "ExecuteTime": {
     "end_time": "2024-10-24T03:20:20.619038Z",
     "start_time": "2024-10-24T03:20:18.001069Z"
    }
   },
   "outputs": [],
   "source": [
    "import pandas as pd\n",
    "import numpy as np\n",
    "import seaborn as sns\n",
    "import matplotlib.pyplot as plt\n",
    "from sklearn.model_selection import train_test_split\n",
    "from sklearn.linear_model import LinearRegression\n",
    "from sklearn.metrics import mean_squared_error\n",
    "from scipy.optimize import curve_fit\n",
    "from sklearn.preprocessing import StandardScaler\n",
    "from tqdm.notebook import tqdm\n",
    "from sklearn.preprocessing import LabelEncoder\n",
    "\n",
    "import warnings\n",
    "warnings.filterwarnings('ignore')\n",
    "pd.set_option('display.max_columns', None)\n",
    "pd.set_option('display.width', None)"
   ]
  },
  {
   "cell_type": "code",
   "execution_count": 2,
   "id": "26e368a3",
   "metadata": {
    "ExecuteTime": {
     "end_time": "2024-10-24T03:20:20.682996Z",
     "start_time": "2024-10-24T03:20:20.654697Z"
    }
   },
   "outputs": [
    {
     "data": {
      "text/html": [
       "<div>\n",
       "<style scoped>\n",
       "    .dataframe tbody tr th:only-of-type {\n",
       "        vertical-align: middle;\n",
       "    }\n",
       "\n",
       "    .dataframe tbody tr th {\n",
       "        vertical-align: top;\n",
       "    }\n",
       "\n",
       "    .dataframe thead th {\n",
       "        text-align: right;\n",
       "    }\n",
       "</style>\n",
       "<table border=\"1\" class=\"dataframe\">\n",
       "  <thead>\n",
       "    <tr style=\"text-align: right;\">\n",
       "      <th></th>\n",
       "      <th>sepal_length</th>\n",
       "      <th>sepal_width</th>\n",
       "      <th>petal_length</th>\n",
       "      <th>petal_width</th>\n",
       "      <th>species</th>\n",
       "    </tr>\n",
       "  </thead>\n",
       "  <tbody>\n",
       "    <tr>\n",
       "      <th>0</th>\n",
       "      <td>5.1</td>\n",
       "      <td>3.5</td>\n",
       "      <td>1.4</td>\n",
       "      <td>0.2</td>\n",
       "      <td>setosa</td>\n",
       "    </tr>\n",
       "    <tr>\n",
       "      <th>1</th>\n",
       "      <td>4.9</td>\n",
       "      <td>3.0</td>\n",
       "      <td>1.4</td>\n",
       "      <td>0.2</td>\n",
       "      <td>setosa</td>\n",
       "    </tr>\n",
       "    <tr>\n",
       "      <th>2</th>\n",
       "      <td>4.7</td>\n",
       "      <td>3.2</td>\n",
       "      <td>1.3</td>\n",
       "      <td>0.2</td>\n",
       "      <td>setosa</td>\n",
       "    </tr>\n",
       "    <tr>\n",
       "      <th>3</th>\n",
       "      <td>4.6</td>\n",
       "      <td>3.1</td>\n",
       "      <td>1.5</td>\n",
       "      <td>0.2</td>\n",
       "      <td>setosa</td>\n",
       "    </tr>\n",
       "    <tr>\n",
       "      <th>4</th>\n",
       "      <td>5.0</td>\n",
       "      <td>3.6</td>\n",
       "      <td>1.4</td>\n",
       "      <td>0.2</td>\n",
       "      <td>setosa</td>\n",
       "    </tr>\n",
       "  </tbody>\n",
       "</table>\n",
       "</div>"
      ],
      "text/plain": [
       "   sepal_length  sepal_width  petal_length  petal_width species\n",
       "0           5.1          3.5           1.4          0.2  setosa\n",
       "1           4.9          3.0           1.4          0.2  setosa\n",
       "2           4.7          3.2           1.3          0.2  setosa\n",
       "3           4.6          3.1           1.5          0.2  setosa\n",
       "4           5.0          3.6           1.4          0.2  setosa"
      ]
     },
     "execution_count": 2,
     "metadata": {},
     "output_type": "execute_result"
    }
   ],
   "source": [
    "df_iris = pd.read_csv(\"Iris.csv\")\n",
    "df_iris.head()"
   ]
  },
  {
   "cell_type": "markdown",
   "id": "d913f315",
   "metadata": {},
   "source": [
    "# Preprocessing"
   ]
  },
  {
   "cell_type": "markdown",
   "id": "f3497c22",
   "metadata": {},
   "source": [
    "1. Lakukan preprocessing untuk data Iris.csv. Perhatikan tipe data non numerik. Lakukan transformasi yang perlu pada tipe data non numerik."
   ]
  },
  {
   "cell_type": "code",
   "execution_count": 3,
   "id": "940ab92b",
   "metadata": {
    "ExecuteTime": {
     "end_time": "2024-10-24T03:20:20.692256Z",
     "start_time": "2024-10-24T03:20:20.684622Z"
    }
   },
   "outputs": [
    {
     "data": {
      "text/plain": [
       "sepal_length    float64\n",
       "sepal_width     float64\n",
       "petal_length    float64\n",
       "petal_width     float64\n",
       "species          object\n",
       "dtype: object"
      ]
     },
     "execution_count": 3,
     "metadata": {},
     "output_type": "execute_result"
    }
   ],
   "source": [
    "df_iris.dtypes"
   ]
  },
  {
   "cell_type": "code",
   "execution_count": 4,
   "id": "26a2e257",
   "metadata": {
    "ExecuteTime": {
     "end_time": "2024-10-24T03:20:20.707334Z",
     "start_time": "2024-10-24T03:20:20.695089Z"
    }
   },
   "outputs": [
    {
     "data": {
      "text/plain": [
       "sepal_length    0\n",
       "sepal_width     0\n",
       "petal_length    0\n",
       "petal_width     0\n",
       "species         0\n",
       "dtype: int64"
      ]
     },
     "execution_count": 4,
     "metadata": {},
     "output_type": "execute_result"
    }
   ],
   "source": [
    "df_iris.isna().sum()"
   ]
  },
  {
   "cell_type": "markdown",
   "id": "afef5e8e",
   "metadata": {},
   "source": [
    "## Encoding untuk Variabel Species"
   ]
  },
  {
   "cell_type": "code",
   "execution_count": 5,
   "id": "93a5b245",
   "metadata": {
    "ExecuteTime": {
     "end_time": "2024-10-24T03:20:20.722828Z",
     "start_time": "2024-10-24T03:20:20.710088Z"
    }
   },
   "outputs": [],
   "source": [
    "encoding_species = {\n",
    "    'setosa' : 0, \n",
    "    'versicolor' : 1, \n",
    "    'virginica' : 2}\n",
    "df_iris['species'] = df_iris['species'].map(encoding_species)"
   ]
  },
  {
   "cell_type": "code",
   "execution_count": 6,
   "id": "3b1f4bfe",
   "metadata": {
    "ExecuteTime": {
     "end_time": "2024-10-24T03:20:20.744944Z",
     "start_time": "2024-10-24T03:20:20.725685Z"
    }
   },
   "outputs": [
    {
     "data": {
      "text/html": [
       "<div>\n",
       "<style scoped>\n",
       "    .dataframe tbody tr th:only-of-type {\n",
       "        vertical-align: middle;\n",
       "    }\n",
       "\n",
       "    .dataframe tbody tr th {\n",
       "        vertical-align: top;\n",
       "    }\n",
       "\n",
       "    .dataframe thead th {\n",
       "        text-align: right;\n",
       "    }\n",
       "</style>\n",
       "<table border=\"1\" class=\"dataframe\">\n",
       "  <thead>\n",
       "    <tr style=\"text-align: right;\">\n",
       "      <th></th>\n",
       "      <th>sepal_length</th>\n",
       "      <th>sepal_width</th>\n",
       "      <th>petal_length</th>\n",
       "      <th>petal_width</th>\n",
       "      <th>species</th>\n",
       "    </tr>\n",
       "  </thead>\n",
       "  <tbody>\n",
       "    <tr>\n",
       "      <th>0</th>\n",
       "      <td>5.1</td>\n",
       "      <td>3.5</td>\n",
       "      <td>1.4</td>\n",
       "      <td>0.2</td>\n",
       "      <td>0</td>\n",
       "    </tr>\n",
       "    <tr>\n",
       "      <th>1</th>\n",
       "      <td>4.9</td>\n",
       "      <td>3.0</td>\n",
       "      <td>1.4</td>\n",
       "      <td>0.2</td>\n",
       "      <td>0</td>\n",
       "    </tr>\n",
       "    <tr>\n",
       "      <th>2</th>\n",
       "      <td>4.7</td>\n",
       "      <td>3.2</td>\n",
       "      <td>1.3</td>\n",
       "      <td>0.2</td>\n",
       "      <td>0</td>\n",
       "    </tr>\n",
       "    <tr>\n",
       "      <th>3</th>\n",
       "      <td>4.6</td>\n",
       "      <td>3.1</td>\n",
       "      <td>1.5</td>\n",
       "      <td>0.2</td>\n",
       "      <td>0</td>\n",
       "    </tr>\n",
       "    <tr>\n",
       "      <th>4</th>\n",
       "      <td>5.0</td>\n",
       "      <td>3.6</td>\n",
       "      <td>1.4</td>\n",
       "      <td>0.2</td>\n",
       "      <td>0</td>\n",
       "    </tr>\n",
       "  </tbody>\n",
       "</table>\n",
       "</div>"
      ],
      "text/plain": [
       "   sepal_length  sepal_width  petal_length  petal_width  species\n",
       "0           5.1          3.5           1.4          0.2        0\n",
       "1           4.9          3.0           1.4          0.2        0\n",
       "2           4.7          3.2           1.3          0.2        0\n",
       "3           4.6          3.1           1.5          0.2        0\n",
       "4           5.0          3.6           1.4          0.2        0"
      ]
     },
     "execution_count": 6,
     "metadata": {},
     "output_type": "execute_result"
    }
   ],
   "source": [
    "df_iris.head()"
   ]
  },
  {
   "cell_type": "code",
   "execution_count": 7,
   "id": "9b6679ed",
   "metadata": {
    "ExecuteTime": {
     "end_time": "2024-10-24T03:20:20.763654Z",
     "start_time": "2024-10-24T03:20:20.750937Z"
    }
   },
   "outputs": [
    {
     "data": {
      "text/plain": [
       "sepal_length    float64\n",
       "sepal_width     float64\n",
       "petal_length    float64\n",
       "petal_width     float64\n",
       "species           int64\n",
       "dtype: object"
      ]
     },
     "execution_count": 7,
     "metadata": {},
     "output_type": "execute_result"
    }
   ],
   "source": [
    "# Cek tipe data setelah encoding\n",
    "df_iris.dtypes"
   ]
  },
  {
   "cell_type": "code",
   "execution_count": 8,
   "id": "87e2e16c",
   "metadata": {
    "ExecuteTime": {
     "end_time": "2024-10-24T03:20:20.779786Z",
     "start_time": "2024-10-24T03:20:20.769096Z"
    }
   },
   "outputs": [
    {
     "data": {
      "text/plain": [
       "1"
      ]
     },
     "execution_count": 8,
     "metadata": {},
     "output_type": "execute_result"
    }
   ],
   "source": [
    "df_iris.duplicated().sum()"
   ]
  },
  {
   "cell_type": "code",
   "execution_count": 9,
   "id": "d1a3c287",
   "metadata": {
    "ExecuteTime": {
     "end_time": "2024-10-24T03:20:20.800532Z",
     "start_time": "2024-10-24T03:20:20.782089Z"
    }
   },
   "outputs": [
    {
     "data": {
      "text/html": [
       "<div>\n",
       "<style scoped>\n",
       "    .dataframe tbody tr th:only-of-type {\n",
       "        vertical-align: middle;\n",
       "    }\n",
       "\n",
       "    .dataframe tbody tr th {\n",
       "        vertical-align: top;\n",
       "    }\n",
       "\n",
       "    .dataframe thead th {\n",
       "        text-align: right;\n",
       "    }\n",
       "</style>\n",
       "<table border=\"1\" class=\"dataframe\">\n",
       "  <thead>\n",
       "    <tr style=\"text-align: right;\">\n",
       "      <th></th>\n",
       "      <th>sepal_length</th>\n",
       "      <th>sepal_width</th>\n",
       "      <th>petal_length</th>\n",
       "      <th>petal_width</th>\n",
       "      <th>species</th>\n",
       "    </tr>\n",
       "  </thead>\n",
       "  <tbody>\n",
       "    <tr>\n",
       "      <th>142</th>\n",
       "      <td>5.8</td>\n",
       "      <td>2.7</td>\n",
       "      <td>5.1</td>\n",
       "      <td>1.9</td>\n",
       "      <td>2</td>\n",
       "    </tr>\n",
       "  </tbody>\n",
       "</table>\n",
       "</div>"
      ],
      "text/plain": [
       "     sepal_length  sepal_width  petal_length  petal_width  species\n",
       "142           5.8          2.7           5.1          1.9        2"
      ]
     },
     "execution_count": 9,
     "metadata": {},
     "output_type": "execute_result"
    }
   ],
   "source": [
    "df_iris[df_iris.duplicated()]"
   ]
  },
  {
   "cell_type": "code",
   "execution_count": 10,
   "id": "0d4832ba",
   "metadata": {
    "ExecuteTime": {
     "end_time": "2024-10-24T03:20:20.816570Z",
     "start_time": "2024-10-24T03:20:20.803424Z"
    }
   },
   "outputs": [],
   "source": [
    "df_iris.drop_duplicates(inplace=True)"
   ]
  },
  {
   "cell_type": "code",
   "execution_count": 11,
   "id": "068b4db1",
   "metadata": {
    "ExecuteTime": {
     "end_time": "2024-10-24T03:20:20.854878Z",
     "start_time": "2024-10-24T03:20:20.846565Z"
    }
   },
   "outputs": [
    {
     "data": {
      "text/plain": [
       "0"
      ]
     },
     "execution_count": 11,
     "metadata": {},
     "output_type": "execute_result"
    }
   ],
   "source": [
    "df_iris.duplicated().sum()"
   ]
  },
  {
   "cell_type": "markdown",
   "id": "4448336c",
   "metadata": {},
   "source": [
    "2. Bangun model regresi dengan regresi linear multivariable"
   ]
  },
  {
   "cell_type": "markdown",
   "id": "39f2236d",
   "metadata": {},
   "source": [
    "## Data Splitting"
   ]
  },
  {
   "cell_type": "code",
   "execution_count": 12,
   "id": "a956af5c",
   "metadata": {
    "ExecuteTime": {
     "end_time": "2024-10-24T03:20:21.670991Z",
     "start_time": "2024-10-24T03:20:21.663414Z"
    }
   },
   "outputs": [],
   "source": [
    "# Menetapkan Variabel Fitur & Target\n",
    "X_iris = df_iris.drop('petal_width', axis=1)\n",
    "y_iris = df_iris[\"petal_width\"]"
   ]
  },
  {
   "cell_type": "code",
   "execution_count": 13,
   "id": "604a3e2a",
   "metadata": {
    "ExecuteTime": {
     "end_time": "2024-10-24T03:20:21.943759Z",
     "start_time": "2024-10-24T03:20:21.934072Z"
    }
   },
   "outputs": [],
   "source": [
    "X_train_iris, X_test_iris, y_train_iris, y_test_iris = train_test_split(X_iris, y_iris, test_size=0.2, random_state=42)"
   ]
  },
  {
   "cell_type": "code",
   "execution_count": 14,
   "id": "740c06d9",
   "metadata": {
    "ExecuteTime": {
     "end_time": "2024-10-24T03:20:22.215329Z",
     "start_time": "2024-10-24T03:20:22.204662Z"
    }
   },
   "outputs": [
    {
     "name": "stdout",
     "output_type": "stream",
     "text": [
      "(149, 4)\n",
      "(149,)\n"
     ]
    }
   ],
   "source": [
    "print(X_iris.shape)\n",
    "print(y_iris.shape)"
   ]
  },
  {
   "cell_type": "markdown",
   "id": "d71577e1",
   "metadata": {},
   "source": [
    "## Regresi Linear Multivariabel"
   ]
  },
  {
   "cell_type": "code",
   "execution_count": 15,
   "id": "63faab4e",
   "metadata": {
    "ExecuteTime": {
     "end_time": "2024-10-24T03:20:22.790338Z",
     "start_time": "2024-10-24T03:20:22.782613Z"
    }
   },
   "outputs": [],
   "source": [
    "lr = LinearRegression()"
   ]
  },
  {
   "cell_type": "code",
   "execution_count": 16,
   "id": "c2354cab",
   "metadata": {
    "ExecuteTime": {
     "end_time": "2024-10-24T03:20:23.120024Z",
     "start_time": "2024-10-24T03:20:23.101651Z"
    }
   },
   "outputs": [
    {
     "data": {
      "text/html": [
       "<style>#sk-container-id-1 {\n",
       "  /* Definition of color scheme common for light and dark mode */\n",
       "  --sklearn-color-text: black;\n",
       "  --sklearn-color-line: gray;\n",
       "  /* Definition of color scheme for unfitted estimators */\n",
       "  --sklearn-color-unfitted-level-0: #fff5e6;\n",
       "  --sklearn-color-unfitted-level-1: #f6e4d2;\n",
       "  --sklearn-color-unfitted-level-2: #ffe0b3;\n",
       "  --sklearn-color-unfitted-level-3: chocolate;\n",
       "  /* Definition of color scheme for fitted estimators */\n",
       "  --sklearn-color-fitted-level-0: #f0f8ff;\n",
       "  --sklearn-color-fitted-level-1: #d4ebff;\n",
       "  --sklearn-color-fitted-level-2: #b3dbfd;\n",
       "  --sklearn-color-fitted-level-3: cornflowerblue;\n",
       "\n",
       "  /* Specific color for light theme */\n",
       "  --sklearn-color-text-on-default-background: var(--sg-text-color, var(--theme-code-foreground, var(--jp-content-font-color1, black)));\n",
       "  --sklearn-color-background: var(--sg-background-color, var(--theme-background, var(--jp-layout-color0, white)));\n",
       "  --sklearn-color-border-box: var(--sg-text-color, var(--theme-code-foreground, var(--jp-content-font-color1, black)));\n",
       "  --sklearn-color-icon: #696969;\n",
       "\n",
       "  @media (prefers-color-scheme: dark) {\n",
       "    /* Redefinition of color scheme for dark theme */\n",
       "    --sklearn-color-text-on-default-background: var(--sg-text-color, var(--theme-code-foreground, var(--jp-content-font-color1, white)));\n",
       "    --sklearn-color-background: var(--sg-background-color, var(--theme-background, var(--jp-layout-color0, #111)));\n",
       "    --sklearn-color-border-box: var(--sg-text-color, var(--theme-code-foreground, var(--jp-content-font-color1, white)));\n",
       "    --sklearn-color-icon: #878787;\n",
       "  }\n",
       "}\n",
       "\n",
       "#sk-container-id-1 {\n",
       "  color: var(--sklearn-color-text);\n",
       "}\n",
       "\n",
       "#sk-container-id-1 pre {\n",
       "  padding: 0;\n",
       "}\n",
       "\n",
       "#sk-container-id-1 input.sk-hidden--visually {\n",
       "  border: 0;\n",
       "  clip: rect(1px 1px 1px 1px);\n",
       "  clip: rect(1px, 1px, 1px, 1px);\n",
       "  height: 1px;\n",
       "  margin: -1px;\n",
       "  overflow: hidden;\n",
       "  padding: 0;\n",
       "  position: absolute;\n",
       "  width: 1px;\n",
       "}\n",
       "\n",
       "#sk-container-id-1 div.sk-dashed-wrapped {\n",
       "  border: 1px dashed var(--sklearn-color-line);\n",
       "  margin: 0 0.4em 0.5em 0.4em;\n",
       "  box-sizing: border-box;\n",
       "  padding-bottom: 0.4em;\n",
       "  background-color: var(--sklearn-color-background);\n",
       "}\n",
       "\n",
       "#sk-container-id-1 div.sk-container {\n",
       "  /* jupyter's `normalize.less` sets `[hidden] { display: none; }`\n",
       "     but bootstrap.min.css set `[hidden] { display: none !important; }`\n",
       "     so we also need the `!important` here to be able to override the\n",
       "     default hidden behavior on the sphinx rendered scikit-learn.org.\n",
       "     See: https://github.com/scikit-learn/scikit-learn/issues/21755 */\n",
       "  display: inline-block !important;\n",
       "  position: relative;\n",
       "}\n",
       "\n",
       "#sk-container-id-1 div.sk-text-repr-fallback {\n",
       "  display: none;\n",
       "}\n",
       "\n",
       "div.sk-parallel-item,\n",
       "div.sk-serial,\n",
       "div.sk-item {\n",
       "  /* draw centered vertical line to link estimators */\n",
       "  background-image: linear-gradient(var(--sklearn-color-text-on-default-background), var(--sklearn-color-text-on-default-background));\n",
       "  background-size: 2px 100%;\n",
       "  background-repeat: no-repeat;\n",
       "  background-position: center center;\n",
       "}\n",
       "\n",
       "/* Parallel-specific style estimator block */\n",
       "\n",
       "#sk-container-id-1 div.sk-parallel-item::after {\n",
       "  content: \"\";\n",
       "  width: 100%;\n",
       "  border-bottom: 2px solid var(--sklearn-color-text-on-default-background);\n",
       "  flex-grow: 1;\n",
       "}\n",
       "\n",
       "#sk-container-id-1 div.sk-parallel {\n",
       "  display: flex;\n",
       "  align-items: stretch;\n",
       "  justify-content: center;\n",
       "  background-color: var(--sklearn-color-background);\n",
       "  position: relative;\n",
       "}\n",
       "\n",
       "#sk-container-id-1 div.sk-parallel-item {\n",
       "  display: flex;\n",
       "  flex-direction: column;\n",
       "}\n",
       "\n",
       "#sk-container-id-1 div.sk-parallel-item:first-child::after {\n",
       "  align-self: flex-end;\n",
       "  width: 50%;\n",
       "}\n",
       "\n",
       "#sk-container-id-1 div.sk-parallel-item:last-child::after {\n",
       "  align-self: flex-start;\n",
       "  width: 50%;\n",
       "}\n",
       "\n",
       "#sk-container-id-1 div.sk-parallel-item:only-child::after {\n",
       "  width: 0;\n",
       "}\n",
       "\n",
       "/* Serial-specific style estimator block */\n",
       "\n",
       "#sk-container-id-1 div.sk-serial {\n",
       "  display: flex;\n",
       "  flex-direction: column;\n",
       "  align-items: center;\n",
       "  background-color: var(--sklearn-color-background);\n",
       "  padding-right: 1em;\n",
       "  padding-left: 1em;\n",
       "}\n",
       "\n",
       "\n",
       "/* Toggleable style: style used for estimator/Pipeline/ColumnTransformer box that is\n",
       "clickable and can be expanded/collapsed.\n",
       "- Pipeline and ColumnTransformer use this feature and define the default style\n",
       "- Estimators will overwrite some part of the style using the `sk-estimator` class\n",
       "*/\n",
       "\n",
       "/* Pipeline and ColumnTransformer style (default) */\n",
       "\n",
       "#sk-container-id-1 div.sk-toggleable {\n",
       "  /* Default theme specific background. It is overwritten whether we have a\n",
       "  specific estimator or a Pipeline/ColumnTransformer */\n",
       "  background-color: var(--sklearn-color-background);\n",
       "}\n",
       "\n",
       "/* Toggleable label */\n",
       "#sk-container-id-1 label.sk-toggleable__label {\n",
       "  cursor: pointer;\n",
       "  display: block;\n",
       "  width: 100%;\n",
       "  margin-bottom: 0;\n",
       "  padding: 0.5em;\n",
       "  box-sizing: border-box;\n",
       "  text-align: center;\n",
       "}\n",
       "\n",
       "#sk-container-id-1 label.sk-toggleable__label-arrow:before {\n",
       "  /* Arrow on the left of the label */\n",
       "  content: \"▸\";\n",
       "  float: left;\n",
       "  margin-right: 0.25em;\n",
       "  color: var(--sklearn-color-icon);\n",
       "}\n",
       "\n",
       "#sk-container-id-1 label.sk-toggleable__label-arrow:hover:before {\n",
       "  color: var(--sklearn-color-text);\n",
       "}\n",
       "\n",
       "/* Toggleable content - dropdown */\n",
       "\n",
       "#sk-container-id-1 div.sk-toggleable__content {\n",
       "  max-height: 0;\n",
       "  max-width: 0;\n",
       "  overflow: hidden;\n",
       "  text-align: left;\n",
       "  /* unfitted */\n",
       "  background-color: var(--sklearn-color-unfitted-level-0);\n",
       "}\n",
       "\n",
       "#sk-container-id-1 div.sk-toggleable__content.fitted {\n",
       "  /* fitted */\n",
       "  background-color: var(--sklearn-color-fitted-level-0);\n",
       "}\n",
       "\n",
       "#sk-container-id-1 div.sk-toggleable__content pre {\n",
       "  margin: 0.2em;\n",
       "  border-radius: 0.25em;\n",
       "  color: var(--sklearn-color-text);\n",
       "  /* unfitted */\n",
       "  background-color: var(--sklearn-color-unfitted-level-0);\n",
       "}\n",
       "\n",
       "#sk-container-id-1 div.sk-toggleable__content.fitted pre {\n",
       "  /* unfitted */\n",
       "  background-color: var(--sklearn-color-fitted-level-0);\n",
       "}\n",
       "\n",
       "#sk-container-id-1 input.sk-toggleable__control:checked~div.sk-toggleable__content {\n",
       "  /* Expand drop-down */\n",
       "  max-height: 200px;\n",
       "  max-width: 100%;\n",
       "  overflow: auto;\n",
       "}\n",
       "\n",
       "#sk-container-id-1 input.sk-toggleable__control:checked~label.sk-toggleable__label-arrow:before {\n",
       "  content: \"▾\";\n",
       "}\n",
       "\n",
       "/* Pipeline/ColumnTransformer-specific style */\n",
       "\n",
       "#sk-container-id-1 div.sk-label input.sk-toggleable__control:checked~label.sk-toggleable__label {\n",
       "  color: var(--sklearn-color-text);\n",
       "  background-color: var(--sklearn-color-unfitted-level-2);\n",
       "}\n",
       "\n",
       "#sk-container-id-1 div.sk-label.fitted input.sk-toggleable__control:checked~label.sk-toggleable__label {\n",
       "  background-color: var(--sklearn-color-fitted-level-2);\n",
       "}\n",
       "\n",
       "/* Estimator-specific style */\n",
       "\n",
       "/* Colorize estimator box */\n",
       "#sk-container-id-1 div.sk-estimator input.sk-toggleable__control:checked~label.sk-toggleable__label {\n",
       "  /* unfitted */\n",
       "  background-color: var(--sklearn-color-unfitted-level-2);\n",
       "}\n",
       "\n",
       "#sk-container-id-1 div.sk-estimator.fitted input.sk-toggleable__control:checked~label.sk-toggleable__label {\n",
       "  /* fitted */\n",
       "  background-color: var(--sklearn-color-fitted-level-2);\n",
       "}\n",
       "\n",
       "#sk-container-id-1 div.sk-label label.sk-toggleable__label,\n",
       "#sk-container-id-1 div.sk-label label {\n",
       "  /* The background is the default theme color */\n",
       "  color: var(--sklearn-color-text-on-default-background);\n",
       "}\n",
       "\n",
       "/* On hover, darken the color of the background */\n",
       "#sk-container-id-1 div.sk-label:hover label.sk-toggleable__label {\n",
       "  color: var(--sklearn-color-text);\n",
       "  background-color: var(--sklearn-color-unfitted-level-2);\n",
       "}\n",
       "\n",
       "/* Label box, darken color on hover, fitted */\n",
       "#sk-container-id-1 div.sk-label.fitted:hover label.sk-toggleable__label.fitted {\n",
       "  color: var(--sklearn-color-text);\n",
       "  background-color: var(--sklearn-color-fitted-level-2);\n",
       "}\n",
       "\n",
       "/* Estimator label */\n",
       "\n",
       "#sk-container-id-1 div.sk-label label {\n",
       "  font-family: monospace;\n",
       "  font-weight: bold;\n",
       "  display: inline-block;\n",
       "  line-height: 1.2em;\n",
       "}\n",
       "\n",
       "#sk-container-id-1 div.sk-label-container {\n",
       "  text-align: center;\n",
       "}\n",
       "\n",
       "/* Estimator-specific */\n",
       "#sk-container-id-1 div.sk-estimator {\n",
       "  font-family: monospace;\n",
       "  border: 1px dotted var(--sklearn-color-border-box);\n",
       "  border-radius: 0.25em;\n",
       "  box-sizing: border-box;\n",
       "  margin-bottom: 0.5em;\n",
       "  /* unfitted */\n",
       "  background-color: var(--sklearn-color-unfitted-level-0);\n",
       "}\n",
       "\n",
       "#sk-container-id-1 div.sk-estimator.fitted {\n",
       "  /* fitted */\n",
       "  background-color: var(--sklearn-color-fitted-level-0);\n",
       "}\n",
       "\n",
       "/* on hover */\n",
       "#sk-container-id-1 div.sk-estimator:hover {\n",
       "  /* unfitted */\n",
       "  background-color: var(--sklearn-color-unfitted-level-2);\n",
       "}\n",
       "\n",
       "#sk-container-id-1 div.sk-estimator.fitted:hover {\n",
       "  /* fitted */\n",
       "  background-color: var(--sklearn-color-fitted-level-2);\n",
       "}\n",
       "\n",
       "/* Specification for estimator info (e.g. \"i\" and \"?\") */\n",
       "\n",
       "/* Common style for \"i\" and \"?\" */\n",
       "\n",
       ".sk-estimator-doc-link,\n",
       "a:link.sk-estimator-doc-link,\n",
       "a:visited.sk-estimator-doc-link {\n",
       "  float: right;\n",
       "  font-size: smaller;\n",
       "  line-height: 1em;\n",
       "  font-family: monospace;\n",
       "  background-color: var(--sklearn-color-background);\n",
       "  border-radius: 1em;\n",
       "  height: 1em;\n",
       "  width: 1em;\n",
       "  text-decoration: none !important;\n",
       "  margin-left: 1ex;\n",
       "  /* unfitted */\n",
       "  border: var(--sklearn-color-unfitted-level-1) 1pt solid;\n",
       "  color: var(--sklearn-color-unfitted-level-1);\n",
       "}\n",
       "\n",
       ".sk-estimator-doc-link.fitted,\n",
       "a:link.sk-estimator-doc-link.fitted,\n",
       "a:visited.sk-estimator-doc-link.fitted {\n",
       "  /* fitted */\n",
       "  border: var(--sklearn-color-fitted-level-1) 1pt solid;\n",
       "  color: var(--sklearn-color-fitted-level-1);\n",
       "}\n",
       "\n",
       "/* On hover */\n",
       "div.sk-estimator:hover .sk-estimator-doc-link:hover,\n",
       ".sk-estimator-doc-link:hover,\n",
       "div.sk-label-container:hover .sk-estimator-doc-link:hover,\n",
       ".sk-estimator-doc-link:hover {\n",
       "  /* unfitted */\n",
       "  background-color: var(--sklearn-color-unfitted-level-3);\n",
       "  color: var(--sklearn-color-background);\n",
       "  text-decoration: none;\n",
       "}\n",
       "\n",
       "div.sk-estimator.fitted:hover .sk-estimator-doc-link.fitted:hover,\n",
       ".sk-estimator-doc-link.fitted:hover,\n",
       "div.sk-label-container:hover .sk-estimator-doc-link.fitted:hover,\n",
       ".sk-estimator-doc-link.fitted:hover {\n",
       "  /* fitted */\n",
       "  background-color: var(--sklearn-color-fitted-level-3);\n",
       "  color: var(--sklearn-color-background);\n",
       "  text-decoration: none;\n",
       "}\n",
       "\n",
       "/* Span, style for the box shown on hovering the info icon */\n",
       ".sk-estimator-doc-link span {\n",
       "  display: none;\n",
       "  z-index: 9999;\n",
       "  position: relative;\n",
       "  font-weight: normal;\n",
       "  right: .2ex;\n",
       "  padding: .5ex;\n",
       "  margin: .5ex;\n",
       "  width: min-content;\n",
       "  min-width: 20ex;\n",
       "  max-width: 50ex;\n",
       "  color: var(--sklearn-color-text);\n",
       "  box-shadow: 2pt 2pt 4pt #999;\n",
       "  /* unfitted */\n",
       "  background: var(--sklearn-color-unfitted-level-0);\n",
       "  border: .5pt solid var(--sklearn-color-unfitted-level-3);\n",
       "}\n",
       "\n",
       ".sk-estimator-doc-link.fitted span {\n",
       "  /* fitted */\n",
       "  background: var(--sklearn-color-fitted-level-0);\n",
       "  border: var(--sklearn-color-fitted-level-3);\n",
       "}\n",
       "\n",
       ".sk-estimator-doc-link:hover span {\n",
       "  display: block;\n",
       "}\n",
       "\n",
       "/* \"?\"-specific style due to the `<a>` HTML tag */\n",
       "\n",
       "#sk-container-id-1 a.estimator_doc_link {\n",
       "  float: right;\n",
       "  font-size: 1rem;\n",
       "  line-height: 1em;\n",
       "  font-family: monospace;\n",
       "  background-color: var(--sklearn-color-background);\n",
       "  border-radius: 1rem;\n",
       "  height: 1rem;\n",
       "  width: 1rem;\n",
       "  text-decoration: none;\n",
       "  /* unfitted */\n",
       "  color: var(--sklearn-color-unfitted-level-1);\n",
       "  border: var(--sklearn-color-unfitted-level-1) 1pt solid;\n",
       "}\n",
       "\n",
       "#sk-container-id-1 a.estimator_doc_link.fitted {\n",
       "  /* fitted */\n",
       "  border: var(--sklearn-color-fitted-level-1) 1pt solid;\n",
       "  color: var(--sklearn-color-fitted-level-1);\n",
       "}\n",
       "\n",
       "/* On hover */\n",
       "#sk-container-id-1 a.estimator_doc_link:hover {\n",
       "  /* unfitted */\n",
       "  background-color: var(--sklearn-color-unfitted-level-3);\n",
       "  color: var(--sklearn-color-background);\n",
       "  text-decoration: none;\n",
       "}\n",
       "\n",
       "#sk-container-id-1 a.estimator_doc_link.fitted:hover {\n",
       "  /* fitted */\n",
       "  background-color: var(--sklearn-color-fitted-level-3);\n",
       "}\n",
       "</style><div id=\"sk-container-id-1\" class=\"sk-top-container\"><div class=\"sk-text-repr-fallback\"><pre>LinearRegression()</pre><b>In a Jupyter environment, please rerun this cell to show the HTML representation or trust the notebook. <br />On GitHub, the HTML representation is unable to render, please try loading this page with nbviewer.org.</b></div><div class=\"sk-container\" hidden><div class=\"sk-item\"><div class=\"sk-estimator fitted sk-toggleable\"><input class=\"sk-toggleable__control sk-hidden--visually\" id=\"sk-estimator-id-1\" type=\"checkbox\" checked><label for=\"sk-estimator-id-1\" class=\"sk-toggleable__label fitted sk-toggleable__label-arrow fitted\">&nbsp;&nbsp;LinearRegression<a class=\"sk-estimator-doc-link fitted\" rel=\"noreferrer\" target=\"_blank\" href=\"https://scikit-learn.org/1.4/modules/generated/sklearn.linear_model.LinearRegression.html\">?<span>Documentation for LinearRegression</span></a><span class=\"sk-estimator-doc-link fitted\">i<span>Fitted</span></span></label><div class=\"sk-toggleable__content fitted\"><pre>LinearRegression()</pre></div> </div></div></div></div>"
      ],
      "text/plain": [
       "LinearRegression()"
      ]
     },
     "execution_count": 16,
     "metadata": {},
     "output_type": "execute_result"
    }
   ],
   "source": [
    "lr.fit(X_train_iris, y_train_iris)"
   ]
  },
  {
   "cell_type": "code",
   "execution_count": 17,
   "id": "39dda8d7",
   "metadata": {
    "ExecuteTime": {
     "end_time": "2024-10-24T03:20:23.393645Z",
     "start_time": "2024-10-24T03:20:23.383474Z"
    }
   },
   "outputs": [
    {
     "data": {
      "text/plain": [
       "-0.27260705184421963"
      ]
     },
     "execution_count": 17,
     "metadata": {},
     "output_type": "execute_result"
    }
   ],
   "source": [
    "c = lr.intercept_\n",
    "c"
   ]
  },
  {
   "cell_type": "code",
   "execution_count": 18,
   "id": "f2c304a6",
   "metadata": {
    "ExecuteTime": {
     "end_time": "2024-10-24T03:20:23.776448Z",
     "start_time": "2024-10-24T03:20:23.766145Z"
    }
   },
   "outputs": [
    {
     "data": {
      "text/plain": [
       "array([-0.13658959,  0.20505653,  0.34937245,  0.32312688])"
      ]
     },
     "execution_count": 18,
     "metadata": {},
     "output_type": "execute_result"
    }
   ],
   "source": [
    "m = lr.coef_\n",
    "m"
   ]
  },
  {
   "cell_type": "code",
   "execution_count": 19,
   "id": "77c91aca",
   "metadata": {
    "ExecuteTime": {
     "end_time": "2024-10-24T03:20:24.173714Z",
     "start_time": "2024-10-24T03:20:24.159132Z"
    }
   },
   "outputs": [
    {
     "data": {
      "text/plain": [
       "array([0.1866568 , 0.3751397 , 1.3082836 , 0.32795104, 0.23676384,\n",
       "       2.25659357, 1.40470337, 0.25888362, 0.27176994, 0.38191753,\n",
       "       2.07878239, 1.50035051, 1.41309533, 0.24371382, 0.27257701,\n",
       "       1.08409082, 2.03011733, 2.16231584, 1.3014369 , 1.99749798,\n",
       "       1.35449304, 2.12734416, 1.47296373, 0.23760533, 1.84865327,\n",
       "       1.24437988, 0.20344072, 0.21632705, 0.47380851, 1.00048851,\n",
       "       2.23686055, 0.43276278, 0.21861051, 0.30140576, 0.99213098,\n",
       "       0.25203692, 1.30663504, 1.84626651, 0.24438317, 1.33398739,\n",
       "       1.98155555, 0.32650907, 0.91467159, 1.77263586, 1.07959645,\n",
       "       1.50028165, 1.75209578, 1.1683969 , 0.3834628 , 2.11059467,\n",
       "       2.05669704, 0.21025298, 0.11987284, 1.11902806, 1.49740141,\n",
       "       0.21783788, 1.85458961, 0.26569588, 0.32113878, 1.5778099 ,\n",
       "       1.30062984, 1.56643441, 1.86909006, 2.0300829 , 1.2094082 ,\n",
       "       0.21018412, 0.139537  , 2.26572374, 1.77793729, 0.25881476,\n",
       "       0.23760533, 0.19575253, 1.41457174, 2.06824839, 0.28539447,\n",
       "       1.90479994, 2.28605353, 0.19578696, 1.45403778, 1.34395904,\n",
       "       2.14261725, 1.39262411, 1.93738485, 0.36899678, 2.0073282 ,\n",
       "       1.32717512, 1.91772069, 1.02790972, 1.25645914, 1.43960618,\n",
       "       0.038554  , 1.35080574, 1.36966284, 0.28623596, 1.33321475,\n",
       "       2.17225306, 2.12660596, 0.31355388, 1.02629559, 2.12660596,\n",
       "       2.03173145, 0.2854289 , 1.953465  , 0.16239498, 1.4556519 ,\n",
       "       2.06821396, 2.06428194, 1.27854449, 2.02253243, 1.19887421,\n",
       "       1.27331192, 1.89482828, 1.9647372 , 0.28093454, 1.18897141,\n",
       "       1.78917506, 0.1746464 , 1.18893698, 2.08032765])"
      ]
     },
     "execution_count": 19,
     "metadata": {},
     "output_type": "execute_result"
    }
   ],
   "source": [
    "y_pred_train_iris = lr.predict(X_train_iris)\n",
    "y_pred_train_iris"
   ]
  },
  {
   "cell_type": "code",
   "execution_count": 20,
   "id": "da978383",
   "metadata": {
    "ExecuteTime": {
     "end_time": "2024-10-24T03:20:24.832273Z",
     "start_time": "2024-10-24T03:20:24.566466Z"
    }
   },
   "outputs": [
    {
     "data": {
      "image/png": "[encoded data removed]",
      "text/plain": [
       "<Figure size 640x480 with 1 Axes>"
      ]
     },
     "metadata": {},
     "output_type": "display_data"
    }
   ],
   "source": [
    "plt.scatter(y_train_iris, y_pred_train_iris)\n",
    "plt.xlabel(\"Nilai Aktual\")\n",
    "plt.ylabel(\"Nilai Prediksi\")\n",
    "plt.show()"
   ]
  },
  {
   "cell_type": "code",
   "execution_count": 21,
   "id": "d299df38",
   "metadata": {
    "ExecuteTime": {
     "end_time": "2024-10-24T03:20:24.984636Z",
     "start_time": "2024-10-24T03:20:24.977176Z"
    }
   },
   "outputs": [
    {
     "name": "stdout",
     "output_type": "stream",
     "text": [
      "RMSE train multivariate linear regression: 0.168\n"
     ]
    }
   ],
   "source": [
    "print(f\"RMSE train multivariate linear regression: {round(np.sqrt(mean_squared_error(y_train_iris, y_pred_train_iris)), 3)}\")"
   ]
  },
  {
   "cell_type": "code",
   "execution_count": 22,
   "id": "f46155db",
   "metadata": {
    "ExecuteTime": {
     "end_time": "2024-10-24T03:20:25.525746Z",
     "start_time": "2024-10-24T03:20:25.512079Z"
    }
   },
   "outputs": [
    {
     "data": {
      "text/plain": [
       "array([1.43353212, 0.32198027, 2.44191708, 1.39782225, 1.37285666,\n",
       "       0.21106005, 1.13802288, 2.05065741, 1.22696476, 1.17450539,\n",
       "       2.2595771 , 0.17605394, 0.14803225, 0.21783788, 0.33405953,\n",
       "       1.50874247, 2.1668102 , 1.160812  , 1.41829347, 2.30978743,\n",
       "       0.3005987 , 1.77870992, 0.30063313, 1.8675448 , 2.03011733,\n",
       "       1.89040278, 1.92379476, 1.9168792 , 0.17605394, 0.26643408])"
      ]
     },
     "execution_count": 22,
     "metadata": {},
     "output_type": "execute_result"
    }
   ],
   "source": [
    "y_pred_test_iris = lr.predict(X_test_iris)\n",
    "y_pred_test_iris"
   ]
  },
  {
   "cell_type": "code",
   "execution_count": 23,
   "id": "2b52839e",
   "metadata": {
    "ExecuteTime": {
     "end_time": "2024-10-24T03:20:26.262729Z",
     "start_time": "2024-10-24T03:20:26.047523Z"
    }
   },
   "outputs": [
    {
     "data": {
      "image/png": "[encoded data removed]",
      "text/plain": [
       "<Figure size 640x480 with 1 Axes>"
      ]
     },
     "metadata": {},
     "output_type": "display_data"
    }
   ],
   "source": [
    "plt.scatter(y_test_iris, y_pred_test_iris)\n",
    "plt.xlabel(\"Nilai Aktual\")\n",
    "plt.ylabel(\"Nilai Prediksi\")\n",
    "plt.show()"
   ]
  },
  {
   "cell_type": "code",
   "execution_count": 24,
   "id": "e45f1b15",
   "metadata": {
    "ExecuteTime": {
     "end_time": "2024-10-24T03:20:26.392308Z",
     "start_time": "2024-10-24T03:20:26.382161Z"
    }
   },
   "outputs": [
    {
     "name": "stdout",
     "output_type": "stream",
     "text": [
      "Multivariate Linear Regression: 0.170\n"
     ]
    }
   ],
   "source": [
    "rmse_linear = np.sqrt(mean_squared_error(y_test_iris, y_pred_test_iris))\n",
    "print(f\"Multivariate Linear Regression: {rmse_linear:.3f}\")"
   ]
  },
  {
   "cell_type": "markdown",
   "id": "a941f15a",
   "metadata": {},
   "source": [
    "3. Bangun model regresi non linear terhadap data Iris dengan fungsi sigmoid dan fungsi cubic"
   ]
  },
  {
   "cell_type": "markdown",
   "id": "5553c78a",
   "metadata": {},
   "source": [
    "## Sigmoid Function"
   ]
  },
  {
   "cell_type": "markdown",
   "id": "89d235a1",
   "metadata": {},
   "source": [
    "### Menentukan Variabel Input dan Target"
   ]
  },
  {
   "cell_type": "code",
   "execution_count": 25,
   "id": "c2c97ad3",
   "metadata": {
    "ExecuteTime": {
     "end_time": "2024-10-24T03:20:28.011210Z",
     "start_time": "2024-10-24T03:20:28.003780Z"
    }
   },
   "outputs": [],
   "source": [
    "X_f = df_iris[['sepal_length', 'sepal_width', 'petal_length', 'species']].values\n",
    "y_f = df_iris['petal_width'].values"
   ]
  },
  {
   "cell_type": "markdown",
   "id": "a3433b72",
   "metadata": {},
   "source": [
    "### Data Splitting"
   ]
  },
  {
   "cell_type": "code",
   "execution_count": 26,
   "id": "858ae29a",
   "metadata": {
    "ExecuteTime": {
     "end_time": "2024-10-24T03:20:28.623765Z",
     "start_time": "2024-10-24T03:20:28.615745Z"
    }
   },
   "outputs": [],
   "source": [
    "X_train_f, X_test_f, y_train_f, y_test_f = train_test_split(X_f, y_f, test_size=0.2, random_state=42)"
   ]
  },
  {
   "cell_type": "code",
   "execution_count": 27,
   "id": "009f15cc",
   "metadata": {
    "ExecuteTime": {
     "end_time": "2024-10-24T03:20:28.934162Z",
     "start_time": "2024-10-24T03:20:28.925822Z"
    }
   },
   "outputs": [
    {
     "name": "stdout",
     "output_type": "stream",
     "text": [
      "(149, 4)\n",
      "(149,)\n"
     ]
    }
   ],
   "source": [
    "print(X_f.shape)\n",
    "print(y_f.shape)"
   ]
  },
  {
   "cell_type": "markdown",
   "id": "1081d219",
   "metadata": {},
   "source": [
    "### Standarisasi Data"
   ]
  },
  {
   "cell_type": "code",
   "execution_count": 28,
   "id": "5d19f012",
   "metadata": {
    "ExecuteTime": {
     "end_time": "2024-10-24T03:20:29.545613Z",
     "start_time": "2024-10-24T03:20:29.537877Z"
    }
   },
   "outputs": [],
   "source": [
    "scaler = StandardScaler()\n",
    "X_train_scaled = scaler.fit_transform(X_train_f)\n",
    "X_test_scaled = scaler.transform(X_test_f)"
   ]
  },
  {
   "cell_type": "code",
   "execution_count": 29,
   "id": "77e734c4",
   "metadata": {
    "ExecuteTime": {
     "end_time": "2024-10-24T03:20:29.854704Z",
     "start_time": "2024-10-24T03:20:29.848347Z"
    }
   },
   "outputs": [],
   "source": [
    "# Fungsi sigmoid untuk multivariat\n",
    "def sigmoid(X_f, a, b, c):\n",
    "    z = a * X_f[:, 0] + b * X_f[:, 1] + c\n",
    "    return 1 / (1 + np.exp(-z))"
   ]
  },
  {
   "cell_type": "code",
   "execution_count": 30,
   "id": "b2de1f48",
   "metadata": {
    "ExecuteTime": {
     "end_time": "2024-10-24T03:20:30.144249Z",
     "start_time": "2024-10-24T03:20:30.133962Z"
    }
   },
   "outputs": [],
   "source": [
    "params_sigmoid, _ = curve_fit(sigmoid, X_train_scaled, y_train_f)\n",
    "y_test_pred_sigmoid = sigmoid(X_test_scaled, *params_sigmoid)"
   ]
  },
  {
   "cell_type": "code",
   "execution_count": 31,
   "id": "a31f83d7",
   "metadata": {
    "ExecuteTime": {
     "end_time": "2024-10-24T03:20:30.800722Z",
     "start_time": "2024-10-24T03:20:30.507734Z"
    }
   },
   "outputs": [
    {
     "data": {
      "image/png": "[encoded data removed]",
      "text/plain": [
       "<Figure size 640x480 with 1 Axes>"
      ]
     },
     "metadata": {},
     "output_type": "display_data"
    }
   ],
   "source": [
    "# Visualisasi hasil prediksi\n",
    "plt.scatter(y_test_f, y_test_pred_sigmoid, color='blue')\n",
    "plt.plot([min(y_test_f), max(y_test_f)], [min(y_test_f), max(y_test_f)], color='red', lw=2)\n",
    "plt.xlabel(\"Nilai Aktual Petal Width\")\n",
    "plt.ylabel(\"Nilai Prediksi Petal Width\")\n",
    "plt.title(\"Prediksi Petal Width dengan Sigmoid\")\n",
    "plt.show()"
   ]
  },
  {
   "cell_type": "code",
   "execution_count": 32,
   "id": "84d08056",
   "metadata": {
    "ExecuteTime": {
     "end_time": "2024-10-24T03:20:31.067648Z",
     "start_time": "2024-10-24T03:20:31.058507Z"
    }
   },
   "outputs": [
    {
     "name": "stdout",
     "output_type": "stream",
     "text": [
      "Sigmoid Multivariate Regression: 0.744\n"
     ]
    }
   ],
   "source": [
    "rmse_sigmoid = np.sqrt(mean_squared_error(y_test_f, y_test_pred_sigmoid))\n",
    "print(f\"Sigmoid Multivariate Regression: {rmse_sigmoid:.3f}\")"
   ]
  },
  {
   "cell_type": "markdown",
   "id": "c2f24a6b",
   "metadata": {},
   "source": [
    "## Cubic Function"
   ]
  },
  {
   "cell_type": "code",
   "execution_count": 33,
   "id": "cf48e09c",
   "metadata": {
    "ExecuteTime": {
     "end_time": "2024-10-24T03:20:31.949029Z",
     "start_time": "2024-10-24T03:20:31.940810Z"
    }
   },
   "outputs": [],
   "source": [
    "# Fungsi cubic untuk multivariat\n",
    "def cubic_multivariate(X_f, *params):\n",
    "    n_features = X_f.shape[1]\n",
    "    result = 0\n",
    "    \n",
    "    # Feature 4 parameter (a,b,c,d)\n",
    "    for i in range(n_features):\n",
    "        start_idx = i * 4\n",
    "        a, b, c, d = params[start_idx:start_idx + 4]\n",
    "        feature = X_f[:, i]\n",
    "        result += a * feature**3 + b * feature**2 + c * feature + d\n",
    "    bias = params[-1]\n",
    "    return result + bias"
   ]
  },
  {
   "cell_type": "code",
   "execution_count": 34,
   "id": "b6e838a3",
   "metadata": {
    "ExecuteTime": {
     "end_time": "2024-10-24T03:20:32.275787Z",
     "start_time": "2024-10-24T03:20:32.267849Z"
    }
   },
   "outputs": [],
   "source": [
    "n_features = X_train_scaled.shape[1]\n",
    "initial_params = np.ones(n_features * 4 + 1)"
   ]
  },
  {
   "cell_type": "code",
   "execution_count": 35,
   "id": "bbcb0c9c",
   "metadata": {
    "ExecuteTime": {
     "end_time": "2024-10-24T03:20:32.653079Z",
     "start_time": "2024-10-24T03:20:32.634474Z"
    }
   },
   "outputs": [],
   "source": [
    "# Fitting model\n",
    "cubic_params, _ = curve_fit(\n",
    "    cubic_multivariate, \n",
    "    X_train_scaled, \n",
    "    y_train_f, \n",
    "    p0=initial_params,\n",
    "    maxfev=10000 \n",
    ")"
   ]
  },
  {
   "cell_type": "code",
   "execution_count": 36,
   "id": "5daf93f6",
   "metadata": {
    "ExecuteTime": {
     "end_time": "2024-10-24T03:20:33.023903Z",
     "start_time": "2024-10-24T03:20:33.014500Z"
    }
   },
   "outputs": [
    {
     "name": "stdout",
     "output_type": "stream",
     "text": [
      "Cubic Multivariate Regression: 0.158\n"
     ]
    }
   ],
   "source": [
    "y_pred_cubic = cubic_multivariate(X_test_scaled, *cubic_params)\n",
    "rmse_cubic = np.sqrt(mean_squared_error(y_test_f, y_pred_cubic))\n",
    "print(f'Cubic Multivariate Regression: {rmse_cubic:.3f}')"
   ]
  },
  {
   "cell_type": "code",
   "execution_count": 37,
   "id": "5451c5c1",
   "metadata": {
    "ExecuteTime": {
     "end_time": "2024-10-24T03:20:33.778136Z",
     "start_time": "2024-10-24T03:20:33.454227Z"
    }
   },
   "outputs": [
    {
     "data": {
      "image/png": "[encoded data removed]",
      "text/plain": [
       "<Figure size 640x480 with 1 Axes>"
      ]
     },
     "metadata": {},
     "output_type": "display_data"
    }
   ],
   "source": [
    "# Visualisasi hasil prediksi\n",
    "plt.scatter(y_test_f, y_pred_cubic, alpha=0.5)\n",
    "plt.plot([y_test_f.min(), y_test_f.max()], [y_test_f.min(), y_test_f.max()], color='red', lw=2)\n",
    "plt.xlabel(\"Nilai Aktual Petal Width\")\n",
    "plt.ylabel(\"Nilai Prediksi Petal Width\")\n",
    "plt.title(\"Prediksi Petal Width dengan Cubic\")\n",
    "plt.tight_layout()\n",
    "plt.show()"
   ]
  },
  {
   "cell_type": "markdown",
   "id": "dcd1527e",
   "metadata": {},
   "source": [
    "4. Jelaskan model regresi mana yang paling tepat untuk memodelkan data iris dengan metode regresi."
   ]
  },
  {
   "cell_type": "markdown",
   "id": "ec00f43c",
   "metadata": {},
   "source": [
    "Jawab pertanyaan nomor 4. Multivariate Linear Regression dengan nilai RMSE sebesar 0.170 adalah model yang paling cocok di antara ketiga model tersebut. Ini menunjukkan bahwa hubungan antara variabel input dan target dalam dataset Iris bersifat non-linear dan multivariate linear regression menangkap hubungan tersebut lebih baik. Sigmoid Multivariate Regression dan Cubic Multivariate Regression menunjukkan performa yang jauh lebih buruk, dengan nilai RMSE yang tinggi, sehingga kurang cocok untuk memodelkan data ini."
   ]
  },
  {
   "cell_type": "markdown",
   "id": "046e2712",
   "metadata": {},
   "source": [
    "5. Download DataCO2.csv, lakukan eksplorasi data dan preprocessing yang menurut anda diperlukan. "
   ]
  },
  {
   "cell_type": "code",
   "execution_count": 38,
   "id": "eaf630ca",
   "metadata": {
    "ExecuteTime": {
     "end_time": "2024-10-24T03:20:35.051099Z",
     "start_time": "2024-10-24T03:20:35.028725Z"
    }
   },
   "outputs": [
    {
     "data": {
      "text/html": [
       "<div>\n",
       "<style scoped>\n",
       "    .dataframe tbody tr th:only-of-type {\n",
       "        vertical-align: middle;\n",
       "    }\n",
       "\n",
       "    .dataframe tbody tr th {\n",
       "        vertical-align: top;\n",
       "    }\n",
       "\n",
       "    .dataframe thead th {\n",
       "        text-align: right;\n",
       "    }\n",
       "</style>\n",
       "<table border=\"1\" class=\"dataframe\">\n",
       "  <thead>\n",
       "    <tr style=\"text-align: right;\">\n",
       "      <th></th>\n",
       "      <th>Nama</th>\n",
       "      <th>Model</th>\n",
       "      <th>Volume</th>\n",
       "      <th>Bobot</th>\n",
       "      <th>CO2</th>\n",
       "    </tr>\n",
       "  </thead>\n",
       "  <tbody>\n",
       "    <tr>\n",
       "      <th>0</th>\n",
       "      <td>Toyoty</td>\n",
       "      <td>Aygo</td>\n",
       "      <td>1000</td>\n",
       "      <td>790</td>\n",
       "      <td>99</td>\n",
       "    </tr>\n",
       "    <tr>\n",
       "      <th>1</th>\n",
       "      <td>Mitsubishi</td>\n",
       "      <td>Space Star</td>\n",
       "      <td>1200</td>\n",
       "      <td>1160</td>\n",
       "      <td>95</td>\n",
       "    </tr>\n",
       "    <tr>\n",
       "      <th>2</th>\n",
       "      <td>Skoda</td>\n",
       "      <td>Citigo</td>\n",
       "      <td>1000</td>\n",
       "      <td>929</td>\n",
       "      <td>95</td>\n",
       "    </tr>\n",
       "    <tr>\n",
       "      <th>3</th>\n",
       "      <td>Fiat</td>\n",
       "      <td>500</td>\n",
       "      <td>900</td>\n",
       "      <td>865</td>\n",
       "      <td>90</td>\n",
       "    </tr>\n",
       "    <tr>\n",
       "      <th>4</th>\n",
       "      <td>Mini</td>\n",
       "      <td>Cooper</td>\n",
       "      <td>1500</td>\n",
       "      <td>1140</td>\n",
       "      <td>105</td>\n",
       "    </tr>\n",
       "  </tbody>\n",
       "</table>\n",
       "</div>"
      ],
      "text/plain": [
       "         Nama       Model  Volume  Bobot  CO2\n",
       "0      Toyoty        Aygo    1000    790   99\n",
       "1  Mitsubishi  Space Star    1200   1160   95\n",
       "2       Skoda      Citigo    1000    929   95\n",
       "3        Fiat         500     900    865   90\n",
       "4        Mini      Cooper    1500   1140  105"
      ]
     },
     "execution_count": 38,
     "metadata": {},
     "output_type": "execute_result"
    }
   ],
   "source": [
    "df_co2 = pd.read_csv(\"DataCO2.csv\")\n",
    "df_co2.head()"
   ]
  },
  {
   "cell_type": "markdown",
   "id": "654fc5c2",
   "metadata": {},
   "source": [
    "# Preprocessing"
   ]
  },
  {
   "cell_type": "markdown",
   "id": "7742d7de",
   "metadata": {},
   "source": [
    "6. Apakah ada tipe data non numerik pada DataCO2.csv? Dan apakah ada yang bersifat nominal/ordinal? Jika ada sebutkan kolom mana saja, jika tidak jelaskan mengapa."
   ]
  },
  {
   "cell_type": "code",
   "execution_count": 39,
   "id": "1c38ec09",
   "metadata": {
    "ExecuteTime": {
     "end_time": "2024-10-24T03:20:36.385549Z",
     "start_time": "2024-10-24T03:20:36.373757Z"
    }
   },
   "outputs": [
    {
     "name": "stdout",
     "output_type": "stream",
     "text": [
      "<class 'pandas.core.frame.DataFrame'>\n",
      "RangeIndex: 36 entries, 0 to 35\n",
      "Data columns (total 5 columns):\n",
      " #   Column  Non-Null Count  Dtype \n",
      "---  ------  --------------  ----- \n",
      " 0   Nama    36 non-null     object\n",
      " 1   Model   36 non-null     object\n",
      " 2   Volume  36 non-null     int64 \n",
      " 3   Bobot   36 non-null     int64 \n",
      " 4   CO2     36 non-null     int64 \n",
      "dtypes: int64(3), object(2)\n",
      "memory usage: 1.5+ KB\n"
     ]
    }
   ],
   "source": [
    "df_co2.info()"
   ]
  },
  {
   "cell_type": "markdown",
   "id": "808c3c09",
   "metadata": {},
   "source": [
    "Jawab pertanyaan nomor 6: DataCO2.csv terdapat fitur dengan tipe data non-numerik yaitu fitur \"Nama\" dan fitur \"Model\". Kedua fitur tersebut bertipe data object yang berarti merupakan tipe data nominal (tanpa urutan tertentu). Dalam melakukan analisis regresi, tipe data nominal tidak bisa langsung dilakukan analisis regresi, untuk itu diperlukan teknik encode untuk membuat tipe data nominal menjadi numerik. Dan apakah ada yang bersifat nominal/ordinal? Jawabannya adalah fitur \"Nama\" dan \"Model\" bersifat nominal dan tidak ada fitur yang bersifat ordinal. "
   ]
  },
  {
   "cell_type": "code",
   "execution_count": 40,
   "id": "03044b88",
   "metadata": {
    "ExecuteTime": {
     "end_time": "2024-10-24T03:20:37.297864Z",
     "start_time": "2024-10-24T03:20:37.289166Z"
    }
   },
   "outputs": [
    {
     "data": {
      "text/plain": [
       "Nama      0\n",
       "Model     0\n",
       "Volume    0\n",
       "Bobot     0\n",
       "CO2       0\n",
       "dtype: int64"
      ]
     },
     "execution_count": 40,
     "metadata": {},
     "output_type": "execute_result"
    }
   ],
   "source": [
    "df_co2.isna().sum()"
   ]
  },
  {
   "cell_type": "code",
   "execution_count": 41,
   "id": "a45a6b4e",
   "metadata": {
    "ExecuteTime": {
     "end_time": "2024-10-24T03:20:37.739201Z",
     "start_time": "2024-10-24T03:20:37.728885Z"
    }
   },
   "outputs": [
    {
     "data": {
      "text/plain": [
       "0"
      ]
     },
     "execution_count": 41,
     "metadata": {},
     "output_type": "execute_result"
    }
   ],
   "source": [
    "df_co2.duplicated().sum()"
   ]
  },
  {
   "cell_type": "code",
   "execution_count": 42,
   "id": "0e1e538d",
   "metadata": {
    "ExecuteTime": {
     "end_time": "2024-10-24T03:20:38.179269Z",
     "start_time": "2024-10-24T03:20:38.146324Z"
    }
   },
   "outputs": [
    {
     "data": {
      "application/vnd.jupyter.widget-view+json": {
       "model_id": "daad3076fbf44de38318e400f8ffc3ec",
       "version_major": 2,
       "version_minor": 0
      },
      "text/plain": [
       "  0%|          | 0/5 [00:00<?, ?it/s]"
      ]
     },
     "metadata": {},
     "output_type": "display_data"
    },
    {
     "name": "stdout",
     "output_type": "stream",
     "text": [
      "Unique Value for Nama: \n",
      "['Toyoty' 'Mitsubishi' 'Skoda' 'Fiat' 'Mini' 'VW' 'Mercedes' 'Ford' 'Audi'\n",
      " 'Hyundai' 'Suzuki' 'Honda' 'Hundai' 'Opel' 'BMW' 'Mazda' 'Volvo']\n",
      "\n",
      "Unique Value for Model: \n",
      "['Aygo' 'Space Star' 'Citigo' '500' 'Cooper' 'Up!' 'Fabia' 'A-Class'\n",
      " 'Fiesta' 'A1' 'I20' 'Swift' 'Civic' 'I30' 'Astra' '1' '3' 'Rapid' 'Focus'\n",
      " 'Mondeo' 'Insignia' 'C-Class' 'Octavia' 'S60' 'CLA' 'A4' 'A6' 'V70' '5'\n",
      " 'E-Class' 'XC70' 'B-Max' '216' 'Zafira' 'SLK']\n",
      "\n",
      "Unique Value for Volume: \n",
      "[1000 1200  900 1500 1400 1600 1100 1300 2200 2000 2100 2500]\n",
      "\n",
      "Unique Value for Bobot: \n",
      "[ 790 1160  929  865 1140 1109 1365 1112 1150  980  990 1252 1326 1330\n",
      " 1280 1119 1328 1584 1428 1415 1465 1490 1725 1523 1705 1605 1746 1235\n",
      " 1390 1405 1395]\n",
      "\n",
      "Unique Value for CO2: \n",
      "[ 99  95  90 105  92  98 101  94  97 104 102 114 109 115 117 108 120]\n",
      "\n"
     ]
    }
   ],
   "source": [
    "#check unique values\n",
    "for i in tqdm(['Nama', 'Model', 'Volume', 'Bobot', 'CO2']):\n",
    "  print(f'Unique Value for {i}: ')\n",
    "  print(df_co2[i].unique())\n",
    "  print()"
   ]
  },
  {
   "cell_type": "markdown",
   "id": "495620a3",
   "metadata": {},
   "source": [
    "## Feature Creation"
   ]
  },
  {
   "cell_type": "code",
   "execution_count": 43,
   "id": "66c9a79a-0afd-49fc-b917-6b0ebb0a8f63",
   "metadata": {
    "ExecuteTime": {
     "end_time": "2024-10-24T03:20:39.093423Z",
     "start_time": "2024-10-24T03:20:39.081865Z"
    }
   },
   "outputs": [],
   "source": [
    "df_co2['Rasio'] = df_co2['Volume'] / df_co2['Bobot']\n",
    "df_co2['Kategori Volume'] = pd.cut(df_co2['Volume'], bins=[0, 1200, 1600, 3000], labels=['kecil', 'sedang', 'besar'])\n",
    "df_co2['Kategori Bobot'] = pd.cut(df_co2['Bobot'], bins=[0, 1100, 1400, 2000], labels=['ringan', 'sedang', 'berat'])"
   ]
  },
  {
   "cell_type": "code",
   "execution_count": 44,
   "id": "abf2431d-8e02-43ba-9c2c-5080643778f2",
   "metadata": {
    "ExecuteTime": {
     "end_time": "2024-10-24T03:20:39.493470Z",
     "start_time": "2024-10-24T03:20:39.480350Z"
    }
   },
   "outputs": [],
   "source": [
    "encoder = LabelEncoder()\n",
    "df_co2[['Nama', 'Model', 'Kategori Volume', 'Kategori Bobot']] = df_co2[['Nama', 'Model', 'Kategori Volume', 'Kategori Bobot']].apply(encoder.fit_transform)"
   ]
  },
  {
   "cell_type": "code",
   "execution_count": 45,
   "id": "79c47afc-d6f7-48ad-aaf5-715f2a0c603a",
   "metadata": {
    "ExecuteTime": {
     "end_time": "2024-10-24T03:20:39.973311Z",
     "start_time": "2024-10-24T03:20:39.947590Z"
    },
    "scrolled": true
   },
   "outputs": [
    {
     "data": {
      "text/html": [
       "<div>\n",
       "<style scoped>\n",
       "    .dataframe tbody tr th:only-of-type {\n",
       "        vertical-align: middle;\n",
       "    }\n",
       "\n",
       "    .dataframe tbody tr th {\n",
       "        vertical-align: top;\n",
       "    }\n",
       "\n",
       "    .dataframe thead th {\n",
       "        text-align: right;\n",
       "    }\n",
       "</style>\n",
       "<table border=\"1\" class=\"dataframe\">\n",
       "  <thead>\n",
       "    <tr style=\"text-align: right;\">\n",
       "      <th></th>\n",
       "      <th>Nama</th>\n",
       "      <th>Model</th>\n",
       "      <th>Volume</th>\n",
       "      <th>Bobot</th>\n",
       "      <th>CO2</th>\n",
       "      <th>Rasio</th>\n",
       "      <th>Kategori Volume</th>\n",
       "      <th>Kategori Bobot</th>\n",
       "    </tr>\n",
       "  </thead>\n",
       "  <tbody>\n",
       "    <tr>\n",
       "      <th>0</th>\n",
       "      <td>14</td>\n",
       "      <td>10</td>\n",
       "      <td>1000</td>\n",
       "      <td>790</td>\n",
       "      <td>99</td>\n",
       "      <td>1.265823</td>\n",
       "      <td>1</td>\n",
       "      <td>1</td>\n",
       "    </tr>\n",
       "    <tr>\n",
       "      <th>1</th>\n",
       "      <td>10</td>\n",
       "      <td>29</td>\n",
       "      <td>1200</td>\n",
       "      <td>1160</td>\n",
       "      <td>95</td>\n",
       "      <td>1.034483</td>\n",
       "      <td>1</td>\n",
       "      <td>2</td>\n",
       "    </tr>\n",
       "    <tr>\n",
       "      <th>2</th>\n",
       "      <td>12</td>\n",
       "      <td>14</td>\n",
       "      <td>1000</td>\n",
       "      <td>929</td>\n",
       "      <td>95</td>\n",
       "      <td>1.076426</td>\n",
       "      <td>1</td>\n",
       "      <td>1</td>\n",
       "    </tr>\n",
       "    <tr>\n",
       "      <th>3</th>\n",
       "      <td>2</td>\n",
       "      <td>4</td>\n",
       "      <td>900</td>\n",
       "      <td>865</td>\n",
       "      <td>90</td>\n",
       "      <td>1.040462</td>\n",
       "      <td>1</td>\n",
       "      <td>1</td>\n",
       "    </tr>\n",
       "    <tr>\n",
       "      <th>4</th>\n",
       "      <td>9</td>\n",
       "      <td>16</td>\n",
       "      <td>1500</td>\n",
       "      <td>1140</td>\n",
       "      <td>105</td>\n",
       "      <td>1.315789</td>\n",
       "      <td>2</td>\n",
       "      <td>2</td>\n",
       "    </tr>\n",
       "    <tr>\n",
       "      <th>5</th>\n",
       "      <td>15</td>\n",
       "      <td>31</td>\n",
       "      <td>1000</td>\n",
       "      <td>929</td>\n",
       "      <td>105</td>\n",
       "      <td>1.076426</td>\n",
       "      <td>1</td>\n",
       "      <td>1</td>\n",
       "    </tr>\n",
       "    <tr>\n",
       "      <th>6</th>\n",
       "      <td>12</td>\n",
       "      <td>18</td>\n",
       "      <td>1400</td>\n",
       "      <td>1109</td>\n",
       "      <td>90</td>\n",
       "      <td>1.262399</td>\n",
       "      <td>2</td>\n",
       "      <td>2</td>\n",
       "    </tr>\n",
       "    <tr>\n",
       "      <th>7</th>\n",
       "      <td>8</td>\n",
       "      <td>5</td>\n",
       "      <td>1500</td>\n",
       "      <td>1365</td>\n",
       "      <td>92</td>\n",
       "      <td>1.098901</td>\n",
       "      <td>2</td>\n",
       "      <td>2</td>\n",
       "    </tr>\n",
       "    <tr>\n",
       "      <th>8</th>\n",
       "      <td>3</td>\n",
       "      <td>19</td>\n",
       "      <td>1500</td>\n",
       "      <td>1112</td>\n",
       "      <td>98</td>\n",
       "      <td>1.348921</td>\n",
       "      <td>2</td>\n",
       "      <td>2</td>\n",
       "    </tr>\n",
       "    <tr>\n",
       "      <th>9</th>\n",
       "      <td>0</td>\n",
       "      <td>6</td>\n",
       "      <td>1600</td>\n",
       "      <td>1150</td>\n",
       "      <td>99</td>\n",
       "      <td>1.391304</td>\n",
       "      <td>2</td>\n",
       "      <td>2</td>\n",
       "    </tr>\n",
       "    <tr>\n",
       "      <th>10</th>\n",
       "      <td>6</td>\n",
       "      <td>21</td>\n",
       "      <td>1100</td>\n",
       "      <td>980</td>\n",
       "      <td>99</td>\n",
       "      <td>1.122449</td>\n",
       "      <td>1</td>\n",
       "      <td>1</td>\n",
       "    </tr>\n",
       "    <tr>\n",
       "      <th>11</th>\n",
       "      <td>13</td>\n",
       "      <td>30</td>\n",
       "      <td>1300</td>\n",
       "      <td>990</td>\n",
       "      <td>101</td>\n",
       "      <td>1.313131</td>\n",
       "      <td>2</td>\n",
       "      <td>1</td>\n",
       "    </tr>\n",
       "    <tr>\n",
       "      <th>12</th>\n",
       "      <td>3</td>\n",
       "      <td>19</td>\n",
       "      <td>1000</td>\n",
       "      <td>1112</td>\n",
       "      <td>99</td>\n",
       "      <td>0.899281</td>\n",
       "      <td>1</td>\n",
       "      <td>2</td>\n",
       "    </tr>\n",
       "    <tr>\n",
       "      <th>13</th>\n",
       "      <td>4</td>\n",
       "      <td>15</td>\n",
       "      <td>1600</td>\n",
       "      <td>1252</td>\n",
       "      <td>94</td>\n",
       "      <td>1.277955</td>\n",
       "      <td>2</td>\n",
       "      <td>2</td>\n",
       "    </tr>\n",
       "    <tr>\n",
       "      <th>14</th>\n",
       "      <td>5</td>\n",
       "      <td>22</td>\n",
       "      <td>1600</td>\n",
       "      <td>1326</td>\n",
       "      <td>97</td>\n",
       "      <td>1.206637</td>\n",
       "      <td>2</td>\n",
       "      <td>2</td>\n",
       "    </tr>\n",
       "    <tr>\n",
       "      <th>15</th>\n",
       "      <td>11</td>\n",
       "      <td>9</td>\n",
       "      <td>1600</td>\n",
       "      <td>1330</td>\n",
       "      <td>97</td>\n",
       "      <td>1.203008</td>\n",
       "      <td>2</td>\n",
       "      <td>2</td>\n",
       "    </tr>\n",
       "    <tr>\n",
       "      <th>16</th>\n",
       "      <td>1</td>\n",
       "      <td>0</td>\n",
       "      <td>1600</td>\n",
       "      <td>1365</td>\n",
       "      <td>99</td>\n",
       "      <td>1.172161</td>\n",
       "      <td>2</td>\n",
       "      <td>2</td>\n",
       "    </tr>\n",
       "    <tr>\n",
       "      <th>17</th>\n",
       "      <td>7</td>\n",
       "      <td>2</td>\n",
       "      <td>2200</td>\n",
       "      <td>1280</td>\n",
       "      <td>104</td>\n",
       "      <td>1.718750</td>\n",
       "      <td>0</td>\n",
       "      <td>2</td>\n",
       "    </tr>\n",
       "    <tr>\n",
       "      <th>18</th>\n",
       "      <td>12</td>\n",
       "      <td>26</td>\n",
       "      <td>1600</td>\n",
       "      <td>1119</td>\n",
       "      <td>104</td>\n",
       "      <td>1.429848</td>\n",
       "      <td>2</td>\n",
       "      <td>2</td>\n",
       "    </tr>\n",
       "    <tr>\n",
       "      <th>19</th>\n",
       "      <td>3</td>\n",
       "      <td>20</td>\n",
       "      <td>2000</td>\n",
       "      <td>1328</td>\n",
       "      <td>105</td>\n",
       "      <td>1.506024</td>\n",
       "      <td>0</td>\n",
       "      <td>2</td>\n",
       "    </tr>\n",
       "    <tr>\n",
       "      <th>20</th>\n",
       "      <td>3</td>\n",
       "      <td>24</td>\n",
       "      <td>1600</td>\n",
       "      <td>1584</td>\n",
       "      <td>94</td>\n",
       "      <td>1.010101</td>\n",
       "      <td>2</td>\n",
       "      <td>0</td>\n",
       "    </tr>\n",
       "    <tr>\n",
       "      <th>21</th>\n",
       "      <td>11</td>\n",
       "      <td>23</td>\n",
       "      <td>2000</td>\n",
       "      <td>1428</td>\n",
       "      <td>99</td>\n",
       "      <td>1.400560</td>\n",
       "      <td>0</td>\n",
       "      <td>0</td>\n",
       "    </tr>\n",
       "    <tr>\n",
       "      <th>22</th>\n",
       "      <td>8</td>\n",
       "      <td>12</td>\n",
       "      <td>2100</td>\n",
       "      <td>1365</td>\n",
       "      <td>99</td>\n",
       "      <td>1.538462</td>\n",
       "      <td>0</td>\n",
       "      <td>2</td>\n",
       "    </tr>\n",
       "    <tr>\n",
       "      <th>23</th>\n",
       "      <td>12</td>\n",
       "      <td>25</td>\n",
       "      <td>1600</td>\n",
       "      <td>1415</td>\n",
       "      <td>99</td>\n",
       "      <td>1.130742</td>\n",
       "      <td>2</td>\n",
       "      <td>0</td>\n",
       "    </tr>\n",
       "    <tr>\n",
       "      <th>24</th>\n",
       "      <td>16</td>\n",
       "      <td>27</td>\n",
       "      <td>2000</td>\n",
       "      <td>1415</td>\n",
       "      <td>99</td>\n",
       "      <td>1.413428</td>\n",
       "      <td>0</td>\n",
       "      <td>0</td>\n",
       "    </tr>\n",
       "    <tr>\n",
       "      <th>25</th>\n",
       "      <td>8</td>\n",
       "      <td>13</td>\n",
       "      <td>1500</td>\n",
       "      <td>1465</td>\n",
       "      <td>102</td>\n",
       "      <td>1.023891</td>\n",
       "      <td>2</td>\n",
       "      <td>0</td>\n",
       "    </tr>\n",
       "    <tr>\n",
       "      <th>26</th>\n",
       "      <td>0</td>\n",
       "      <td>7</td>\n",
       "      <td>2000</td>\n",
       "      <td>1490</td>\n",
       "      <td>104</td>\n",
       "      <td>1.342282</td>\n",
       "      <td>0</td>\n",
       "      <td>0</td>\n",
       "    </tr>\n",
       "    <tr>\n",
       "      <th>27</th>\n",
       "      <td>0</td>\n",
       "      <td>8</td>\n",
       "      <td>2000</td>\n",
       "      <td>1725</td>\n",
       "      <td>114</td>\n",
       "      <td>1.159420</td>\n",
       "      <td>0</td>\n",
       "      <td>0</td>\n",
       "    </tr>\n",
       "    <tr>\n",
       "      <th>28</th>\n",
       "      <td>16</td>\n",
       "      <td>32</td>\n",
       "      <td>1600</td>\n",
       "      <td>1523</td>\n",
       "      <td>109</td>\n",
       "      <td>1.050558</td>\n",
       "      <td>2</td>\n",
       "      <td>0</td>\n",
       "    </tr>\n",
       "    <tr>\n",
       "      <th>29</th>\n",
       "      <td>1</td>\n",
       "      <td>3</td>\n",
       "      <td>2000</td>\n",
       "      <td>1705</td>\n",
       "      <td>114</td>\n",
       "      <td>1.173021</td>\n",
       "      <td>0</td>\n",
       "      <td>0</td>\n",
       "    </tr>\n",
       "    <tr>\n",
       "      <th>30</th>\n",
       "      <td>8</td>\n",
       "      <td>17</td>\n",
       "      <td>2100</td>\n",
       "      <td>1605</td>\n",
       "      <td>115</td>\n",
       "      <td>1.308411</td>\n",
       "      <td>0</td>\n",
       "      <td>0</td>\n",
       "    </tr>\n",
       "    <tr>\n",
       "      <th>31</th>\n",
       "      <td>16</td>\n",
       "      <td>33</td>\n",
       "      <td>2000</td>\n",
       "      <td>1746</td>\n",
       "      <td>117</td>\n",
       "      <td>1.145475</td>\n",
       "      <td>0</td>\n",
       "      <td>0</td>\n",
       "    </tr>\n",
       "    <tr>\n",
       "      <th>32</th>\n",
       "      <td>3</td>\n",
       "      <td>11</td>\n",
       "      <td>1600</td>\n",
       "      <td>1235</td>\n",
       "      <td>104</td>\n",
       "      <td>1.295547</td>\n",
       "      <td>2</td>\n",
       "      <td>2</td>\n",
       "    </tr>\n",
       "    <tr>\n",
       "      <th>33</th>\n",
       "      <td>1</td>\n",
       "      <td>1</td>\n",
       "      <td>1600</td>\n",
       "      <td>1390</td>\n",
       "      <td>108</td>\n",
       "      <td>1.151079</td>\n",
       "      <td>2</td>\n",
       "      <td>2</td>\n",
       "    </tr>\n",
       "    <tr>\n",
       "      <th>34</th>\n",
       "      <td>11</td>\n",
       "      <td>34</td>\n",
       "      <td>1600</td>\n",
       "      <td>1405</td>\n",
       "      <td>109</td>\n",
       "      <td>1.138790</td>\n",
       "      <td>2</td>\n",
       "      <td>0</td>\n",
       "    </tr>\n",
       "    <tr>\n",
       "      <th>35</th>\n",
       "      <td>8</td>\n",
       "      <td>28</td>\n",
       "      <td>2500</td>\n",
       "      <td>1395</td>\n",
       "      <td>120</td>\n",
       "      <td>1.792115</td>\n",
       "      <td>0</td>\n",
       "      <td>2</td>\n",
       "    </tr>\n",
       "  </tbody>\n",
       "</table>\n",
       "</div>"
      ],
      "text/plain": [
       "    Nama  Model  Volume  Bobot  CO2     Rasio  Kategori Volume  Kategori Bobot\n",
       "0     14     10    1000    790   99  1.265823                1               1\n",
       "1     10     29    1200   1160   95  1.034483                1               2\n",
       "2     12     14    1000    929   95  1.076426                1               1\n",
       "3      2      4     900    865   90  1.040462                1               1\n",
       "4      9     16    1500   1140  105  1.315789                2               2\n",
       "5     15     31    1000    929  105  1.076426                1               1\n",
       "6     12     18    1400   1109   90  1.262399                2               2\n",
       "7      8      5    1500   1365   92  1.098901                2               2\n",
       "8      3     19    1500   1112   98  1.348921                2               2\n",
       "9      0      6    1600   1150   99  1.391304                2               2\n",
       "10     6     21    1100    980   99  1.122449                1               1\n",
       "11    13     30    1300    990  101  1.313131                2               1\n",
       "12     3     19    1000   1112   99  0.899281                1               2\n",
       "13     4     15    1600   1252   94  1.277955                2               2\n",
       "14     5     22    1600   1326   97  1.206637                2               2\n",
       "15    11      9    1600   1330   97  1.203008                2               2\n",
       "16     1      0    1600   1365   99  1.172161                2               2\n",
       "17     7      2    2200   1280  104  1.718750                0               2\n",
       "18    12     26    1600   1119  104  1.429848                2               2\n",
       "19     3     20    2000   1328  105  1.506024                0               2\n",
       "20     3     24    1600   1584   94  1.010101                2               0\n",
       "21    11     23    2000   1428   99  1.400560                0               0\n",
       "22     8     12    2100   1365   99  1.538462                0               2\n",
       "23    12     25    1600   1415   99  1.130742                2               0\n",
       "24    16     27    2000   1415   99  1.413428                0               0\n",
       "25     8     13    1500   1465  102  1.023891                2               0\n",
       "26     0      7    2000   1490  104  1.342282                0               0\n",
       "27     0      8    2000   1725  114  1.159420                0               0\n",
       "28    16     32    1600   1523  109  1.050558                2               0\n",
       "29     1      3    2000   1705  114  1.173021                0               0\n",
       "30     8     17    2100   1605  115  1.308411                0               0\n",
       "31    16     33    2000   1746  117  1.145475                0               0\n",
       "32     3     11    1600   1235  104  1.295547                2               2\n",
       "33     1      1    1600   1390  108  1.151079                2               2\n",
       "34    11     34    1600   1405  109  1.138790                2               0\n",
       "35     8     28    2500   1395  120  1.792115                0               2"
      ]
     },
     "execution_count": 45,
     "metadata": {},
     "output_type": "execute_result"
    }
   ],
   "source": [
    "df_co2"
   ]
  },
  {
   "cell_type": "code",
   "execution_count": 46,
   "id": "4cdd045f",
   "metadata": {
    "ExecuteTime": {
     "end_time": "2024-10-24T03:20:41.299909Z",
     "start_time": "2024-10-24T03:20:40.411408Z"
    }
   },
   "outputs": [
    {
     "data": {
      "text/plain": [
       "<function matplotlib.pyplot.show(close=None, block=None)>"
      ]
     },
     "execution_count": 46,
     "metadata": {},
     "output_type": "execute_result"
    },
    {
     "data": {
      "image/png": "[encoded data removed]",
      "text/plain": [
       "<Figure size 2000x1000 with 2 Axes>"
      ]
     },
     "metadata": {},
     "output_type": "display_data"
    }
   ],
   "source": [
    "# Heatmap\n",
    "corr = df_co2.corr()\n",
    "\n",
    "plt.figure(figsize=(20, 10))\n",
    "sns.heatmap(corr, annot=True, cmap='viridis', fmt=\" .2f\")\n",
    "plt.title('Correlation Heatmap')\n",
    "plt.show"
   ]
  },
  {
   "cell_type": "markdown",
   "id": "31fe7fe9",
   "metadata": {},
   "source": [
    "7. Buatlah model regresi menggunakan metode yang paling tepat menurut anda. "
   ]
  },
  {
   "cell_type": "markdown",
   "id": "fcbb0984",
   "metadata": {},
   "source": [
    "## Data Splitting"
   ]
  },
  {
   "cell_type": "code",
   "execution_count": 48,
   "id": "bf5d8c5c",
   "metadata": {
    "ExecuteTime": {
     "end_time": "2024-10-24T03:21:02.973018Z",
     "start_time": "2024-10-24T03:21:02.964411Z"
    }
   },
   "outputs": [],
   "source": [
    "X_co2 = df_co2.drop('CO2', axis=1)\n",
    "y_co2 = df_co2['CO2']"
   ]
  },
  {
   "cell_type": "code",
   "execution_count": 49,
   "id": "d0fab945",
   "metadata": {
    "ExecuteTime": {
     "end_time": "2024-10-24T03:21:03.509248Z",
     "start_time": "2024-10-24T03:21:03.497889Z"
    }
   },
   "outputs": [],
   "source": [
    "X_train_co2, X_test_co2, y_train_co2, y_test_co2 = train_test_split(X_co2, y_co2, test_size=0.2, random_state=42)"
   ]
  },
  {
   "cell_type": "code",
   "execution_count": 50,
   "id": "f0d6ab07",
   "metadata": {
    "ExecuteTime": {
     "end_time": "2024-10-24T03:21:03.952277Z",
     "start_time": "2024-10-24T03:21:03.944751Z"
    }
   },
   "outputs": [
    {
     "name": "stdout",
     "output_type": "stream",
     "text": [
      "(36, 7)\n",
      "(36,)\n"
     ]
    }
   ],
   "source": [
    "print(X_co2.shape)\n",
    "print(y_co2.shape)"
   ]
  },
  {
   "cell_type": "markdown",
   "id": "9d9edfee",
   "metadata": {},
   "source": [
    "## Regresi Linear"
   ]
  },
  {
   "cell_type": "code",
   "execution_count": 51,
   "id": "9e15cd05",
   "metadata": {
    "ExecuteTime": {
     "end_time": "2024-10-24T03:21:04.928726Z",
     "start_time": "2024-10-24T03:21:04.922610Z"
    }
   },
   "outputs": [],
   "source": [
    "lr = LinearRegression()"
   ]
  },
  {
   "cell_type": "code",
   "execution_count": 52,
   "id": "5526a3a9",
   "metadata": {
    "ExecuteTime": {
     "end_time": "2024-10-24T03:21:05.296097Z",
     "start_time": "2024-10-24T03:21:05.281960Z"
    }
   },
   "outputs": [
    {
     "data": {
      "text/html": [
       "<style>#sk-container-id-2 {\n",
       "  /* Definition of color scheme common for light and dark mode */\n",
       "  --sklearn-color-text: black;\n",
       "  --sklearn-color-line: gray;\n",
       "  /* Definition of color scheme for unfitted estimators */\n",
       "  --sklearn-color-unfitted-level-0: #fff5e6;\n",
       "  --sklearn-color-unfitted-level-1: #f6e4d2;\n",
       "  --sklearn-color-unfitted-level-2: #ffe0b3;\n",
       "  --sklearn-color-unfitted-level-3: chocolate;\n",
       "  /* Definition of color scheme for fitted estimators */\n",
       "  --sklearn-color-fitted-level-0: #f0f8ff;\n",
       "  --sklearn-color-fitted-level-1: #d4ebff;\n",
       "  --sklearn-color-fitted-level-2: #b3dbfd;\n",
       "  --sklearn-color-fitted-level-3: cornflowerblue;\n",
       "\n",
       "  /* Specific color for light theme */\n",
       "  --sklearn-color-text-on-default-background: var(--sg-text-color, var(--theme-code-foreground, var(--jp-content-font-color1, black)));\n",
       "  --sklearn-color-background: var(--sg-background-color, var(--theme-background, var(--jp-layout-color0, white)));\n",
       "  --sklearn-color-border-box: var(--sg-text-color, var(--theme-code-foreground, var(--jp-content-font-color1, black)));\n",
       "  --sklearn-color-icon: #696969;\n",
       "\n",
       "  @media (prefers-color-scheme: dark) {\n",
       "    /* Redefinition of color scheme for dark theme */\n",
       "    --sklearn-color-text-on-default-background: var(--sg-text-color, var(--theme-code-foreground, var(--jp-content-font-color1, white)));\n",
       "    --sklearn-color-background: var(--sg-background-color, var(--theme-background, var(--jp-layout-color0, #111)));\n",
       "    --sklearn-color-border-box: var(--sg-text-color, var(--theme-code-foreground, var(--jp-content-font-color1, white)));\n",
       "    --sklearn-color-icon: #878787;\n",
       "  }\n",
       "}\n",
       "\n",
       "#sk-container-id-2 {\n",
       "  color: var(--sklearn-color-text);\n",
       "}\n",
       "\n",
       "#sk-container-id-2 pre {\n",
       "  padding: 0;\n",
       "}\n",
       "\n",
       "#sk-container-id-2 input.sk-hidden--visually {\n",
       "  border: 0;\n",
       "  clip: rect(1px 1px 1px 1px);\n",
       "  clip: rect(1px, 1px, 1px, 1px);\n",
       "  height: 1px;\n",
       "  margin: -1px;\n",
       "  overflow: hidden;\n",
       "  padding: 0;\n",
       "  position: absolute;\n",
       "  width: 1px;\n",
       "}\n",
       "\n",
       "#sk-container-id-2 div.sk-dashed-wrapped {\n",
       "  border: 1px dashed var(--sklearn-color-line);\n",
       "  margin: 0 0.4em 0.5em 0.4em;\n",
       "  box-sizing: border-box;\n",
       "  padding-bottom: 0.4em;\n",
       "  background-color: var(--sklearn-color-background);\n",
       "}\n",
       "\n",
       "#sk-container-id-2 div.sk-container {\n",
       "  /* jupyter's `normalize.less` sets `[hidden] { display: none; }`\n",
       "     but bootstrap.min.css set `[hidden] { display: none !important; }`\n",
       "     so we also need the `!important` here to be able to override the\n",
       "     default hidden behavior on the sphinx rendered scikit-learn.org.\n",
       "     See: https://github.com/scikit-learn/scikit-learn/issues/21755 */\n",
       "  display: inline-block !important;\n",
       "  position: relative;\n",
       "}\n",
       "\n",
       "#sk-container-id-2 div.sk-text-repr-fallback {\n",
       "  display: none;\n",
       "}\n",
       "\n",
       "div.sk-parallel-item,\n",
       "div.sk-serial,\n",
       "div.sk-item {\n",
       "  /* draw centered vertical line to link estimators */\n",
       "  background-image: linear-gradient(var(--sklearn-color-text-on-default-background), var(--sklearn-color-text-on-default-background));\n",
       "  background-size: 2px 100%;\n",
       "  background-repeat: no-repeat;\n",
       "  background-position: center center;\n",
       "}\n",
       "\n",
       "/* Parallel-specific style estimator block */\n",
       "\n",
       "#sk-container-id-2 div.sk-parallel-item::after {\n",
       "  content: \"\";\n",
       "  width: 100%;\n",
       "  border-bottom: 2px solid var(--sklearn-color-text-on-default-background);\n",
       "  flex-grow: 1;\n",
       "}\n",
       "\n",
       "#sk-container-id-2 div.sk-parallel {\n",
       "  display: flex;\n",
       "  align-items: stretch;\n",
       "  justify-content: center;\n",
       "  background-color: var(--sklearn-color-background);\n",
       "  position: relative;\n",
       "}\n",
       "\n",
       "#sk-container-id-2 div.sk-parallel-item {\n",
       "  display: flex;\n",
       "  flex-direction: column;\n",
       "}\n",
       "\n",
       "#sk-container-id-2 div.sk-parallel-item:first-child::after {\n",
       "  align-self: flex-end;\n",
       "  width: 50%;\n",
       "}\n",
       "\n",
       "#sk-container-id-2 div.sk-parallel-item:last-child::after {\n",
       "  align-self: flex-start;\n",
       "  width: 50%;\n",
       "}\n",
       "\n",
       "#sk-container-id-2 div.sk-parallel-item:only-child::after {\n",
       "  width: 0;\n",
       "}\n",
       "\n",
       "/* Serial-specific style estimator block */\n",
       "\n",
       "#sk-container-id-2 div.sk-serial {\n",
       "  display: flex;\n",
       "  flex-direction: column;\n",
       "  align-items: center;\n",
       "  background-color: var(--sklearn-color-background);\n",
       "  padding-right: 1em;\n",
       "  padding-left: 1em;\n",
       "}\n",
       "\n",
       "\n",
       "/* Toggleable style: style used for estimator/Pipeline/ColumnTransformer box that is\n",
       "clickable and can be expanded/collapsed.\n",
       "- Pipeline and ColumnTransformer use this feature and define the default style\n",
       "- Estimators will overwrite some part of the style using the `sk-estimator` class\n",
       "*/\n",
       "\n",
       "/* Pipeline and ColumnTransformer style (default) */\n",
       "\n",
       "#sk-container-id-2 div.sk-toggleable {\n",
       "  /* Default theme specific background. It is overwritten whether we have a\n",
       "  specific estimator or a Pipeline/ColumnTransformer */\n",
       "  background-color: var(--sklearn-color-background);\n",
       "}\n",
       "\n",
       "/* Toggleable label */\n",
       "#sk-container-id-2 label.sk-toggleable__label {\n",
       "  cursor: pointer;\n",
       "  display: block;\n",
       "  width: 100%;\n",
       "  margin-bottom: 0;\n",
       "  padding: 0.5em;\n",
       "  box-sizing: border-box;\n",
       "  text-align: center;\n",
       "}\n",
       "\n",
       "#sk-container-id-2 label.sk-toggleable__label-arrow:before {\n",
       "  /* Arrow on the left of the label */\n",
       "  content: \"▸\";\n",
       "  float: left;\n",
       "  margin-right: 0.25em;\n",
       "  color: var(--sklearn-color-icon);\n",
       "}\n",
       "\n",
       "#sk-container-id-2 label.sk-toggleable__label-arrow:hover:before {\n",
       "  color: var(--sklearn-color-text);\n",
       "}\n",
       "\n",
       "/* Toggleable content - dropdown */\n",
       "\n",
       "#sk-container-id-2 div.sk-toggleable__content {\n",
       "  max-height: 0;\n",
       "  max-width: 0;\n",
       "  overflow: hidden;\n",
       "  text-align: left;\n",
       "  /* unfitted */\n",
       "  background-color: var(--sklearn-color-unfitted-level-0);\n",
       "}\n",
       "\n",
       "#sk-container-id-2 div.sk-toggleable__content.fitted {\n",
       "  /* fitted */\n",
       "  background-color: var(--sklearn-color-fitted-level-0);\n",
       "}\n",
       "\n",
       "#sk-container-id-2 div.sk-toggleable__content pre {\n",
       "  margin: 0.2em;\n",
       "  border-radius: 0.25em;\n",
       "  color: var(--sklearn-color-text);\n",
       "  /* unfitted */\n",
       "  background-color: var(--sklearn-color-unfitted-level-0);\n",
       "}\n",
       "\n",
       "#sk-container-id-2 div.sk-toggleable__content.fitted pre {\n",
       "  /* unfitted */\n",
       "  background-color: var(--sklearn-color-fitted-level-0);\n",
       "}\n",
       "\n",
       "#sk-container-id-2 input.sk-toggleable__control:checked~div.sk-toggleable__content {\n",
       "  /* Expand drop-down */\n",
       "  max-height: 200px;\n",
       "  max-width: 100%;\n",
       "  overflow: auto;\n",
       "}\n",
       "\n",
       "#sk-container-id-2 input.sk-toggleable__control:checked~label.sk-toggleable__label-arrow:before {\n",
       "  content: \"▾\";\n",
       "}\n",
       "\n",
       "/* Pipeline/ColumnTransformer-specific style */\n",
       "\n",
       "#sk-container-id-2 div.sk-label input.sk-toggleable__control:checked~label.sk-toggleable__label {\n",
       "  color: var(--sklearn-color-text);\n",
       "  background-color: var(--sklearn-color-unfitted-level-2);\n",
       "}\n",
       "\n",
       "#sk-container-id-2 div.sk-label.fitted input.sk-toggleable__control:checked~label.sk-toggleable__label {\n",
       "  background-color: var(--sklearn-color-fitted-level-2);\n",
       "}\n",
       "\n",
       "/* Estimator-specific style */\n",
       "\n",
       "/* Colorize estimator box */\n",
       "#sk-container-id-2 div.sk-estimator input.sk-toggleable__control:checked~label.sk-toggleable__label {\n",
       "  /* unfitted */\n",
       "  background-color: var(--sklearn-color-unfitted-level-2);\n",
       "}\n",
       "\n",
       "#sk-container-id-2 div.sk-estimator.fitted input.sk-toggleable__control:checked~label.sk-toggleable__label {\n",
       "  /* fitted */\n",
       "  background-color: var(--sklearn-color-fitted-level-2);\n",
       "}\n",
       "\n",
       "#sk-container-id-2 div.sk-label label.sk-toggleable__label,\n",
       "#sk-container-id-2 div.sk-label label {\n",
       "  /* The background is the default theme color */\n",
       "  color: var(--sklearn-color-text-on-default-background);\n",
       "}\n",
       "\n",
       "/* On hover, darken the color of the background */\n",
       "#sk-container-id-2 div.sk-label:hover label.sk-toggleable__label {\n",
       "  color: var(--sklearn-color-text);\n",
       "  background-color: var(--sklearn-color-unfitted-level-2);\n",
       "}\n",
       "\n",
       "/* Label box, darken color on hover, fitted */\n",
       "#sk-container-id-2 div.sk-label.fitted:hover label.sk-toggleable__label.fitted {\n",
       "  color: var(--sklearn-color-text);\n",
       "  background-color: var(--sklearn-color-fitted-level-2);\n",
       "}\n",
       "\n",
       "/* Estimator label */\n",
       "\n",
       "#sk-container-id-2 div.sk-label label {\n",
       "  font-family: monospace;\n",
       "  font-weight: bold;\n",
       "  display: inline-block;\n",
       "  line-height: 1.2em;\n",
       "}\n",
       "\n",
       "#sk-container-id-2 div.sk-label-container {\n",
       "  text-align: center;\n",
       "}\n",
       "\n",
       "/* Estimator-specific */\n",
       "#sk-container-id-2 div.sk-estimator {\n",
       "  font-family: monospace;\n",
       "  border: 1px dotted var(--sklearn-color-border-box);\n",
       "  border-radius: 0.25em;\n",
       "  box-sizing: border-box;\n",
       "  margin-bottom: 0.5em;\n",
       "  /* unfitted */\n",
       "  background-color: var(--sklearn-color-unfitted-level-0);\n",
       "}\n",
       "\n",
       "#sk-container-id-2 div.sk-estimator.fitted {\n",
       "  /* fitted */\n",
       "  background-color: var(--sklearn-color-fitted-level-0);\n",
       "}\n",
       "\n",
       "/* on hover */\n",
       "#sk-container-id-2 div.sk-estimator:hover {\n",
       "  /* unfitted */\n",
       "  background-color: var(--sklearn-color-unfitted-level-2);\n",
       "}\n",
       "\n",
       "#sk-container-id-2 div.sk-estimator.fitted:hover {\n",
       "  /* fitted */\n",
       "  background-color: var(--sklearn-color-fitted-level-2);\n",
       "}\n",
       "\n",
       "/* Specification for estimator info (e.g. \"i\" and \"?\") */\n",
       "\n",
       "/* Common style for \"i\" and \"?\" */\n",
       "\n",
       ".sk-estimator-doc-link,\n",
       "a:link.sk-estimator-doc-link,\n",
       "a:visited.sk-estimator-doc-link {\n",
       "  float: right;\n",
       "  font-size: smaller;\n",
       "  line-height: 1em;\n",
       "  font-family: monospace;\n",
       "  background-color: var(--sklearn-color-background);\n",
       "  border-radius: 1em;\n",
       "  height: 1em;\n",
       "  width: 1em;\n",
       "  text-decoration: none !important;\n",
       "  margin-left: 1ex;\n",
       "  /* unfitted */\n",
       "  border: var(--sklearn-color-unfitted-level-1) 1pt solid;\n",
       "  color: var(--sklearn-color-unfitted-level-1);\n",
       "}\n",
       "\n",
       ".sk-estimator-doc-link.fitted,\n",
       "a:link.sk-estimator-doc-link.fitted,\n",
       "a:visited.sk-estimator-doc-link.fitted {\n",
       "  /* fitted */\n",
       "  border: var(--sklearn-color-fitted-level-1) 1pt solid;\n",
       "  color: var(--sklearn-color-fitted-level-1);\n",
       "}\n",
       "\n",
       "/* On hover */\n",
       "div.sk-estimator:hover .sk-estimator-doc-link:hover,\n",
       ".sk-estimator-doc-link:hover,\n",
       "div.sk-label-container:hover .sk-estimator-doc-link:hover,\n",
       ".sk-estimator-doc-link:hover {\n",
       "  /* unfitted */\n",
       "  background-color: var(--sklearn-color-unfitted-level-3);\n",
       "  color: var(--sklearn-color-background);\n",
       "  text-decoration: none;\n",
       "}\n",
       "\n",
       "div.sk-estimator.fitted:hover .sk-estimator-doc-link.fitted:hover,\n",
       ".sk-estimator-doc-link.fitted:hover,\n",
       "div.sk-label-container:hover .sk-estimator-doc-link.fitted:hover,\n",
       ".sk-estimator-doc-link.fitted:hover {\n",
       "  /* fitted */\n",
       "  background-color: var(--sklearn-color-fitted-level-3);\n",
       "  color: var(--sklearn-color-background);\n",
       "  text-decoration: none;\n",
       "}\n",
       "\n",
       "/* Span, style for the box shown on hovering the info icon */\n",
       ".sk-estimator-doc-link span {\n",
       "  display: none;\n",
       "  z-index: 9999;\n",
       "  position: relative;\n",
       "  font-weight: normal;\n",
       "  right: .2ex;\n",
       "  padding: .5ex;\n",
       "  margin: .5ex;\n",
       "  width: min-content;\n",
       "  min-width: 20ex;\n",
       "  max-width: 50ex;\n",
       "  color: var(--sklearn-color-text);\n",
       "  box-shadow: 2pt 2pt 4pt #999;\n",
       "  /* unfitted */\n",
       "  background: var(--sklearn-color-unfitted-level-0);\n",
       "  border: .5pt solid var(--sklearn-color-unfitted-level-3);\n",
       "}\n",
       "\n",
       ".sk-estimator-doc-link.fitted span {\n",
       "  /* fitted */\n",
       "  background: var(--sklearn-color-fitted-level-0);\n",
       "  border: var(--sklearn-color-fitted-level-3);\n",
       "}\n",
       "\n",
       ".sk-estimator-doc-link:hover span {\n",
       "  display: block;\n",
       "}\n",
       "\n",
       "/* \"?\"-specific style due to the `<a>` HTML tag */\n",
       "\n",
       "#sk-container-id-2 a.estimator_doc_link {\n",
       "  float: right;\n",
       "  font-size: 1rem;\n",
       "  line-height: 1em;\n",
       "  font-family: monospace;\n",
       "  background-color: var(--sklearn-color-background);\n",
       "  border-radius: 1rem;\n",
       "  height: 1rem;\n",
       "  width: 1rem;\n",
       "  text-decoration: none;\n",
       "  /* unfitted */\n",
       "  color: var(--sklearn-color-unfitted-level-1);\n",
       "  border: var(--sklearn-color-unfitted-level-1) 1pt solid;\n",
       "}\n",
       "\n",
       "#sk-container-id-2 a.estimator_doc_link.fitted {\n",
       "  /* fitted */\n",
       "  border: var(--sklearn-color-fitted-level-1) 1pt solid;\n",
       "  color: var(--sklearn-color-fitted-level-1);\n",
       "}\n",
       "\n",
       "/* On hover */\n",
       "#sk-container-id-2 a.estimator_doc_link:hover {\n",
       "  /* unfitted */\n",
       "  background-color: var(--sklearn-color-unfitted-level-3);\n",
       "  color: var(--sklearn-color-background);\n",
       "  text-decoration: none;\n",
       "}\n",
       "\n",
       "#sk-container-id-2 a.estimator_doc_link.fitted:hover {\n",
       "  /* fitted */\n",
       "  background-color: var(--sklearn-color-fitted-level-3);\n",
       "}\n",
       "</style><div id=\"sk-container-id-2\" class=\"sk-top-container\"><div class=\"sk-text-repr-fallback\"><pre>LinearRegression()</pre><b>In a Jupyter environment, please rerun this cell to show the HTML representation or trust the notebook. <br />On GitHub, the HTML representation is unable to render, please try loading this page with nbviewer.org.</b></div><div class=\"sk-container\" hidden><div class=\"sk-item\"><div class=\"sk-estimator fitted sk-toggleable\"><input class=\"sk-toggleable__control sk-hidden--visually\" id=\"sk-estimator-id-2\" type=\"checkbox\" checked><label for=\"sk-estimator-id-2\" class=\"sk-toggleable__label fitted sk-toggleable__label-arrow fitted\">&nbsp;&nbsp;LinearRegression<a class=\"sk-estimator-doc-link fitted\" rel=\"noreferrer\" target=\"_blank\" href=\"https://scikit-learn.org/1.4/modules/generated/sklearn.linear_model.LinearRegression.html\">?<span>Documentation for LinearRegression</span></a><span class=\"sk-estimator-doc-link fitted\">i<span>Fitted</span></span></label><div class=\"sk-toggleable__content fitted\"><pre>LinearRegression()</pre></div> </div></div></div></div>"
      ],
      "text/plain": [
       "LinearRegression()"
      ]
     },
     "execution_count": 52,
     "metadata": {},
     "output_type": "execute_result"
    }
   ],
   "source": [
    "lr.fit(X_train_co2, y_train_co2)"
   ]
  },
  {
   "cell_type": "code",
   "execution_count": 53,
   "id": "7b07b66c",
   "metadata": {
    "ExecuteTime": {
     "end_time": "2024-10-24T03:21:05.722530Z",
     "start_time": "2024-10-24T03:21:05.712318Z"
    }
   },
   "outputs": [
    {
     "data": {
      "text/plain": [
       "12.549625947942289"
      ]
     },
     "execution_count": 53,
     "metadata": {},
     "output_type": "execute_result"
    }
   ],
   "source": [
    "c = lr.intercept_\n",
    "c"
   ]
  },
  {
   "cell_type": "code",
   "execution_count": 54,
   "id": "7ea754de",
   "metadata": {
    "ExecuteTime": {
     "end_time": "2024-10-24T03:21:06.224940Z",
     "start_time": "2024-10-24T03:21:06.213619Z"
    }
   },
   "outputs": [
    {
     "data": {
      "text/plain": [
       "array([-1.58815426e-01,  6.82214373e-02, -4.98752092e-02,  6.68264697e-02,\n",
       "        6.98791792e+01, -1.90474970e+00, -1.57614337e+00])"
      ]
     },
     "execution_count": 54,
     "metadata": {},
     "output_type": "execute_result"
    }
   ],
   "source": [
    "m = lr.coef_\n",
    "m"
   ]
  },
  {
   "cell_type": "code",
   "execution_count": 55,
   "id": "45ea24c4",
   "metadata": {
    "ExecuteTime": {
     "end_time": "2024-10-24T03:21:06.721376Z",
     "start_time": "2024-10-24T03:21:06.707540Z"
    }
   },
   "outputs": [
    {
     "data": {
      "text/plain": [
       "array([103.80342214,  99.14477037, 106.64575335, 106.38811319,\n",
       "        98.75648133, 109.23336298, 105.91952845,  95.58916408])"
      ]
     },
     "execution_count": 55,
     "metadata": {},
     "output_type": "execute_result"
    }
   ],
   "source": [
    "# Prediksi Model\n",
    "y_pred = lr.predict(X_test_co2)\n",
    "y_pred"
   ]
  },
  {
   "cell_type": "code",
   "execution_count": 56,
   "id": "b6161786",
   "metadata": {
    "ExecuteTime": {
     "end_time": "2024-10-24T03:21:07.115568Z",
     "start_time": "2024-10-24T03:21:07.105414Z"
    }
   },
   "outputs": [],
   "source": [
    "y_pred_co2 = lr.predict(X_test_co2)"
   ]
  },
  {
   "cell_type": "code",
   "execution_count": 57,
   "id": "caf81bce",
   "metadata": {
    "ExecuteTime": {
     "end_time": "2024-10-24T03:21:07.839305Z",
     "start_time": "2024-10-24T03:21:07.831506Z"
    }
   },
   "outputs": [
    {
     "name": "stdout",
     "output_type": "stream",
     "text": [
      "Linear Regression: 7.825\n"
     ]
    }
   ],
   "source": [
    "rmse_linear = np.sqrt(mean_squared_error(y_test_co2, y_pred_co2))\n",
    "print(f\"Linear Regression: {rmse_linear:.3f}\")"
   ]
  },
  {
   "cell_type": "code",
   "execution_count": 58,
   "id": "82d85b91",
   "metadata": {
    "ExecuteTime": {
     "end_time": "2024-10-24T03:21:09.108203Z",
     "start_time": "2024-10-24T03:21:08.868735Z"
    }
   },
   "outputs": [
    {
     "data": {
      "image/png": "[encoded data removed]",
      "text/plain": [
       "<Figure size 640x480 with 1 Axes>"
      ]
     },
     "metadata": {},
     "output_type": "display_data"
    }
   ],
   "source": [
    "plt.scatter(y_test_co2, y_pred_co2)\n",
    "plt.xlabel(\"Nilai Aktual\")\n",
    "plt.ylabel(\"Nilai Prediksi\")\n",
    "plt.show()"
   ]
  }
 ],
 "metadata": {
  "kernelspec": {
   "display_name": "Python 3 (ipykernel)",
   "language": "python",
   "name": "python3"
  },
  "language_info": {
   "codemirror_mode": {
    "name": "ipython",
    "version": 3
   },
   "file_extension": ".py",
   "mimetype": "text/x-python",
   "name": "python",
   "nbconvert_exporter": "python",
   "pygments_lexer": "ipython3",
   "version": "3.12.1"
  },
  "toc": {
   "base_numbering": 1,
   "nav_menu": {},
   "number_sections": true,
   "sideBar": true,
   "skip_h1_title": false,
   "title_cell": "Table of Contents",
   "title_sidebar": "Contents",
   "toc_cell": false,
   "toc_position": {},
   "toc_section_display": true,
   "toc_window_display": false
  }
 },
 "nbformat": 4,
 "nbformat_minor": 5
}
