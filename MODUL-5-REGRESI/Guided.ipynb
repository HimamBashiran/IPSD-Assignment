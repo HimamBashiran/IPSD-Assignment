{
 "cells": [
  {
   "cell_type": "markdown",
   "id": "bb93f5b1",
   "metadata": {},
   "source": [
    "Pertanyaan: Kasih komen penejelasan di code pertemuan 6, interpretasikan hasil R2 Score dan MSE nya (ezz)"
   ]
  },
  {
   "cell_type": "markdown",
   "id": "1e58baa1",
   "metadata": {},
   "source": [
    "# Import Libraries"
   ]
  },
  {
   "cell_type": "code",
   "execution_count": 2,
   "id": "aabd15e6",
   "metadata": {
    "ExecuteTime": {
     "end_time": "2024-10-24T01:18:49.976460Z",
     "start_time": "2024-10-24T01:18:45.886664Z"
    }
   },
   "outputs": [],
   "source": [
    "from sklearn.datasets import load_diabetes\n",
    "from sklearn.linear_model import LinearRegression\n",
    "from sklearn.model_selection import train_test_split\n",
    "from sklearn.metrics import mean_squared_error, r2_score"
   ]
  },
  {
   "cell_type": "markdown",
   "id": "8ad8df05",
   "metadata": {},
   "source": [
    "Mengimpor library sklearn untuk melakukan regresi linear pada dataset diabetes.\n",
    "- 'load_diabetes' memanggil dataset diabetes.\n",
    "- 'LinearRegression' melakukan regresi linear pada dataset diabetes.\n",
    "- 'train_test_split' mengimpor fungsi untuk membagi dataset menjadi data pelatihan dan pengujian.\n",
    "- 'mean_squared_error dan r2_score' mengimpor fungsi untuk mengevaluasi performa model."
   ]
  },
  {
   "cell_type": "code",
   "execution_count": 3,
   "id": "d6bae34d",
   "metadata": {
    "ExecuteTime": {
     "end_time": "2024-10-24T01:18:50.027096Z",
     "start_time": "2024-10-24T01:18:49.983447Z"
    }
   },
   "outputs": [],
   "source": [
    "x, y = load_diabetes(return_X_y=True)"
   ]
  },
  {
   "cell_type": "markdown",
   "id": "bea0c323",
   "metadata": {},
   "source": [
    "Membagi dataset diabetes menjadi fitur (X) dan target (y)"
   ]
  },
  {
   "cell_type": "markdown",
   "id": "fbc60e4b",
   "metadata": {},
   "source": [
    "# Linear Regression"
   ]
  },
  {
   "cell_type": "markdown",
   "id": "6fecfac5",
   "metadata": {},
   "source": [
    "Melakukan analisis data diabetes menggunakan model regresi linear"
   ]
  },
  {
   "cell_type": "code",
   "execution_count": 4,
   "id": "2342fd48",
   "metadata": {
    "ExecuteTime": {
     "end_time": "2024-10-24T01:18:52.880566Z",
     "start_time": "2024-10-24T01:18:52.874541Z"
    }
   },
   "outputs": [],
   "source": [
    "# Membuat Variabel dengan nilai berupa model regresi linear\n",
    "lr = LinearRegression()"
   ]
  },
  {
   "cell_type": "code",
   "execution_count": 6,
   "id": "9ddda7c6",
   "metadata": {
    "ExecuteTime": {
     "end_time": "2024-10-24T01:26:33.047360Z",
     "start_time": "2024-10-24T01:26:33.039984Z"
    }
   },
   "outputs": [],
   "source": [
    "# Melatih model regresi linear menggunakan data fitur (x) dan target (y).\n",
    "lr.fit(x,y)\n",
    "y_pred = lr.predict(x)"
   ]
  },
  {
   "cell_type": "code",
   "execution_count": 7,
   "id": "33984dfc",
   "metadata": {
    "ExecuteTime": {
     "end_time": "2024-10-24T01:27:34.481050Z",
     "start_time": "2024-10-24T01:27:34.427666Z"
    }
   },
   "outputs": [
    {
     "data": {
      "text/plain": [
       "['age', 'sex', 'bmi', 'bp', 's1', 's2', 's3', 's4', 's5', 's6']"
      ]
     },
     "execution_count": 7,
     "metadata": {},
     "output_type": "execute_result"
    }
   ],
   "source": [
    "# Mengakses nama-nama fitur\n",
    "load_diabetes()['feature_names']"
   ]
  },
  {
   "cell_type": "code",
   "execution_count": 17,
   "id": "42c274d5",
   "metadata": {
    "ExecuteTime": {
     "end_time": "2024-10-23T07:24:18.265935Z",
     "start_time": "2024-10-23T07:24:18.243062Z"
    }
   },
   "outputs": [
    {
     "data": {
      "text/plain": [
       "array([151.,  75., 141., 206., 135.,  97., 138.,  63., 110., 310., 101.,\n",
       "        69., 179., 185., 118., 171., 166., 144.,  97., 168.,  68.,  49.,\n",
       "        68., 245., 184., 202., 137.,  85., 131., 283., 129.,  59., 341.,\n",
       "        87.,  65., 102., 265., 276., 252.,  90., 100.,  55.,  61.,  92.,\n",
       "       259.,  53., 190., 142.,  75., 142., 155., 225.,  59., 104., 182.,\n",
       "       128.,  52.,  37., 170., 170.,  61., 144.,  52., 128.,  71., 163.,\n",
       "       150.,  97., 160., 178.,  48., 270., 202., 111.,  85.,  42., 170.,\n",
       "       200., 252., 113., 143.,  51.,  52., 210.,  65., 141.,  55., 134.,\n",
       "        42., 111.,  98., 164.,  48.,  96.,  90., 162., 150., 279.,  92.,\n",
       "        83., 128., 102., 302., 198.,  95.,  53., 134., 144., 232.,  81.,\n",
       "       104.,  59., 246., 297., 258., 229., 275., 281., 179., 200., 200.,\n",
       "       173., 180.,  84., 121., 161.,  99., 109., 115., 268., 274., 158.,\n",
       "       107.,  83., 103., 272.,  85., 280., 336., 281., 118., 317., 235.,\n",
       "        60., 174., 259., 178., 128.,  96., 126., 288.,  88., 292.,  71.,\n",
       "       197., 186.,  25.,  84.,  96., 195.,  53., 217., 172., 131., 214.,\n",
       "        59.,  70., 220., 268., 152.,  47.,  74., 295., 101., 151., 127.,\n",
       "       237., 225.,  81., 151., 107.,  64., 138., 185., 265., 101., 137.,\n",
       "       143., 141.,  79., 292., 178.,  91., 116.,  86., 122.,  72., 129.,\n",
       "       142.,  90., 158.,  39., 196., 222., 277.,  99., 196., 202., 155.,\n",
       "        77., 191.,  70.,  73.,  49.,  65., 263., 248., 296., 214., 185.,\n",
       "        78.,  93., 252., 150.,  77., 208.,  77., 108., 160.,  53., 220.,\n",
       "       154., 259.,  90., 246., 124.,  67.,  72., 257., 262., 275., 177.,\n",
       "        71.,  47., 187., 125.,  78.,  51., 258., 215., 303., 243.,  91.,\n",
       "       150., 310., 153., 346.,  63.,  89.,  50.,  39., 103., 308., 116.,\n",
       "       145.,  74.,  45., 115., 264.,  87., 202., 127., 182., 241.,  66.,\n",
       "        94., 283.,  64., 102., 200., 265.,  94., 230., 181., 156., 233.,\n",
       "        60., 219.,  80.,  68., 332., 248.,  84., 200.,  55.,  85.,  89.,\n",
       "        31., 129.,  83., 275.,  65., 198., 236., 253., 124.,  44., 172.,\n",
       "       114., 142., 109., 180., 144., 163., 147.,  97., 220., 190., 109.,\n",
       "       191., 122., 230., 242., 248., 249., 192., 131., 237.,  78., 135.,\n",
       "       244., 199., 270., 164.,  72.,  96., 306.,  91., 214.,  95., 216.,\n",
       "       263., 178., 113., 200., 139., 139.,  88., 148.,  88., 243.,  71.,\n",
       "        77., 109., 272.,  60.,  54., 221.,  90., 311., 281., 182., 321.,\n",
       "        58., 262., 206., 233., 242., 123., 167.,  63., 197.,  71., 168.,\n",
       "       140., 217., 121., 235., 245.,  40.,  52., 104., 132.,  88.,  69.,\n",
       "       219.,  72., 201., 110.,  51., 277.,  63., 118.,  69., 273., 258.,\n",
       "        43., 198., 242., 232., 175.,  93., 168., 275., 293., 281.,  72.,\n",
       "       140., 189., 181., 209., 136., 261., 113., 131., 174., 257.,  55.,\n",
       "        84.,  42., 146., 212., 233.,  91., 111., 152., 120.,  67., 310.,\n",
       "        94., 183.,  66., 173.,  72.,  49.,  64.,  48., 178., 104., 132.,\n",
       "       220.,  57.])"
      ]
     },
     "execution_count": 17,
     "metadata": {},
     "output_type": "execute_result"
    }
   ],
   "source": [
    "# Mengakses nilai target\n",
    "load_diabetes()['target']"
   ]
  },
  {
   "cell_type": "code",
   "execution_count": 18,
   "id": "54575605",
   "metadata": {
    "ExecuteTime": {
     "end_time": "2024-10-23T07:24:43.988508Z",
     "start_time": "2024-10-23T07:24:43.980323Z"
    }
   },
   "outputs": [
    {
     "name": "stdout",
     "output_type": "stream",
     "text": [
      "0.5177484222203499\n"
     ]
    }
   ],
   "source": [
    "# Menampilkan nilai R-Squared\n",
    "print(r2_score(y,y_pred))"
   ]
  },
  {
   "cell_type": "code",
   "execution_count": 19,
   "id": "ab4f54d5",
   "metadata": {
    "ExecuteTime": {
     "end_time": "2024-10-23T07:24:44.177318Z",
     "start_time": "2024-10-23T07:24:44.168450Z"
    }
   },
   "outputs": [
    {
     "name": "stdout",
     "output_type": "stream",
     "text": [
      "2859.69634758675\n"
     ]
    }
   ],
   "source": [
    "# Menampilkan nilai MSE\n",
    "print(mean_squared_error(y, y_pred))"
   ]
  },
  {
   "cell_type": "markdown",
   "id": "381362b2",
   "metadata": {},
   "source": [
    "# Data Splitting"
   ]
  },
  {
   "cell_type": "code",
   "execution_count": 21,
   "id": "d8258fa7",
   "metadata": {
    "ExecuteTime": {
     "end_time": "2024-10-23T07:30:49.885641Z",
     "start_time": "2024-10-23T07:30:49.868141Z"
    }
   },
   "outputs": [],
   "source": [
    "# Membagi dataset menjadi dua bagian: 80% data latih dan 20% data uji.  \n",
    "from sklearn.model_selection import train_test_split\n",
    "X_train, X_test, y_train, y_test = train_test_split(x, y, test_size=0.2, random_state=42)"
   ]
  },
  {
   "cell_type": "code",
   "execution_count": 22,
   "id": "add64469",
   "metadata": {
    "ExecuteTime": {
     "end_time": "2024-10-23T07:32:03.241714Z",
     "start_time": "2024-10-23T07:32:03.231908Z"
    }
   },
   "outputs": [
    {
     "name": "stdout",
     "output_type": "stream",
     "text": [
      "0.4526027629719197\n",
      "2900.19362849348\n"
     ]
    }
   ],
   "source": [
    "# Melatih model regresi linear dan mengevaluasi kinerjanya menggunakan metrik R² dan Mean Squared Error (MSE).\n",
    "lr = LinearRegression()\n",
    "lr.fit(X_train, y_train)\n",
    "y_pred = lr.predict(X_test)\n",
    "print(r2_score(y_test,y_pred))\n",
    "print(mean_squared_error(y_test, y_pred))"
   ]
  },
  {
   "cell_type": "markdown",
   "id": "0fb47cf7",
   "metadata": {},
   "source": [
    "Interpretasi: Nilai R² berkisar antara 0 hingga 1 dengan ketentuan semakin mendekati angka satu berarti semakin baik. Dalam kasus ini, R² sebesar 0.4526 menunjukkan bahwa sekitar 45.26% dari variasi penyakit diabetes dapat dijelaskan oleh model regresi linear. Sementara itu, Mean Squared Error (MSE) mengukur rata-rata dari kuadrat selisih antara nilai yang diprediksi dan nilai yang sebenarnya. MSE yang lebih rendah menunjukkan model yang lebih baik. Nilai MSE sebesar 2900.19 prediksi model menyimpang sekitar 53.85 (akar dari MSE) dari nilai aktual. Saran yang bisa dilakukan untuk mempertimbangkan beberapa langkah untuk meningkatkan kinerja model adalah dengan mencoba algoritma regresi lain, misalnya regresi ridge, lasso, atau decision tree."
   ]
  }
 ],
 "metadata": {
  "kernelspec": {
   "display_name": "Python 3 (ipykernel)",
   "language": "python",
   "name": "python3"
  },
  "language_info": {
   "codemirror_mode": {
    "name": "ipython",
    "version": 3
   },
   "file_extension": ".py",
   "mimetype": "text/x-python",
   "name": "python",
   "nbconvert_exporter": "python",
   "pygments_lexer": "ipython3",
   "version": "3.12.1"
  },
  "toc": {
   "base_numbering": 1,
   "nav_menu": {},
   "number_sections": true,
   "sideBar": true,
   "skip_h1_title": false,
   "title_cell": "Table of Contents",
   "title_sidebar": "Contents",
   "toc_cell": false,
   "toc_position": {},
   "toc_section_display": true,
   "toc_window_display": false
  }
 },
 "nbformat": 4,
 "nbformat_minor": 5
}
